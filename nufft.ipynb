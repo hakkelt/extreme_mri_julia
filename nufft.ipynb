{
 "cells": [
  {
   "cell_type": "code",
   "execution_count": null,
   "metadata": {},
   "outputs": [],
   "source": [
    "using Documenter, EllipsisNotation, FFTW, PaddedViews, SpecialFunctions, Base.Cartesian, Base.Threads"
   ]
  },
  {
   "cell_type": "code",
   "execution_count": 2,
   "metadata": {},
   "outputs": [],
   "source": [
    "using LinearAlgebra, MacroTools, NFFT, BenchmarkTools\n",
    "using PyCall, Libdl\n",
    "Libdl.dlopen(ENV[\"HOME\"]*\"/.local/lib/python3.6/site-packages/llvmlite/binding/libllvmlite.so\",\n",
    "    Libdl.RTLD_DEEPBIND);\n",
    "py\"\"\"\n",
    "from math import ceil\n",
    "import numpy as np\n",
    "import sigpy as sp\n",
    "from sigpy import util, interp\n",
    "\"\"\""
   ]
  },
  {
   "cell_type": "code",
   "execution_count": 3,
   "metadata": {},
   "outputs": [
    {
     "data": {
      "text/plain": [
       "nufft"
      ]
     },
     "execution_count": 3,
     "metadata": {},
     "output_type": "execute_result"
    }
   ],
   "source": [
    "@doc raw\"\"\"\n",
    "Non-uniform Fast Fourier Transform.\n",
    "\n",
    "**Arguments**:\n",
    "- `input (ArrayType{T} or ArrayType{Complex{T}})`: input signal domain array of shape\n",
    "    ``(n_k, \\ldots, n_{ndim + 1}, n_{ndim}, \\ldots, n_2, n_1)``,\n",
    "    where ``ndim`` is specified by `size(coord)[end]`. The nufft\n",
    "    is applied on the last ``ndim`` axes, and looped over\n",
    "    the remaining axes. `ArrayType` can be any `AbstractArray`.\n",
    "- `coord (ArrayType{T})`: Fourier domain coordinate array of shape ``(m_l, \\ldots, m_1, ndim)``.\n",
    "    ``ndim`` determines the number of dimensions to apply the nufft.\n",
    "    `coord[..., i]` should be scaled to have its range ``[-n_i \\div 2, n_i \\div 2]``.\n",
    "- `oversamp (Float32)`: oversampling factor (default: $1.25$)\n",
    "- `width (Int64)`: interpolation kernel full-width in terms of\n",
    "    oversampled grid. (default: $4$)\n",
    "- `n (Int64)`: number of sampling points of the interpolation kernel. (default: $128$)\n",
    "\n",
    "**Returns**:\n",
    "- `ArrayType{Complex{T}}`: Fourier domain data of shape\n",
    "    ``(n_k, \\ldots, n_{ndim + 1}, m_l, \\ldots, m_1)``.\n",
    "\n",
    "**References**:\n",
    "- Fessler, J. A., & Sutton, B. P. (2003).\n",
    "  \"Nonuniform fast Fourier transforms using min-max interpolation\",\n",
    "  *IEEE Transactions on Signal Processing*, 51(2), 560-574.\n",
    "- Beatty, P. J., Nishimura, D. G., & Pauly, J. M. (2005).\n",
    "  \"Rapid gridding reconstruction with a minimal oversampling ratio,\"\n",
    "  *IEEE transactions on medical imaging*, 24(6), 799-808.\n",
    "\n",
    "\"\"\"\n",
    "function nufft(\n",
    "        input::AbstractArray{Complex{T}},\n",
    "        coord::AbstractArray{T},\n",
    "        oversamp::Float64 = 1.25,\n",
    "        width::Int64 = 4,\n",
    "        n::Int64 = 128) where {T}\n",
    "    \n",
    "    ndim = size(coord)[end]\n",
    "    @assert(ndims(input) ≥ ndim,\n",
    "        \"The size of coord along the last dimension should be greater or equal then the dimensionality of input.\")\n",
    "    \n",
    "    β = π * √(((width / oversamp) * (oversamp - 0.5))^2 - 0.8)\n",
    "    shape = size(input)\n",
    "    oversampled_shape = _get_oversamp_shape(shape, ndim, oversamp)\n",
    "\n",
    "    output = copy(input)\n",
    "\n",
    "    # Apodize\n",
    "    _apodize!(output, ndim, oversamp, width, β)\n",
    "\n",
    "    # Zero-pad\n",
    "    output /= √(prod(shape[end-ndim+1:end]))\n",
    "    shift = oversampled_shape .÷ 2 .- shape .÷ 2 .+ 1\n",
    "    output = PaddedView(0, output, oversampled_shape, shift)\n",
    "\n",
    "    # FFT\n",
    "    all_dims = ndims(input)\n",
    "    output = centering_fft!(convert.(Complex, output), tuple((all_dims-ndim+1:all_dims)...))\n",
    "\n",
    "    # Interpolate\n",
    "    coord = _scale_coord(coord, size(input), oversamp)\n",
    "    x = range(0, stop=n-1, step=1) ./ n\n",
    "    kernel = window_kaiser_bessel.(x, width, β)\n",
    "    return interpolate(output, width, kernel, coord)\n",
    "    \n",
    "end"
   ]
  },
  {
   "cell_type": "code",
   "execution_count": 4,
   "metadata": {},
   "outputs": [
    {
     "data": {
      "text/plain": [
       "nufft (generic function with 8 methods)"
      ]
     },
     "execution_count": 4,
     "metadata": {},
     "output_type": "execute_result"
    }
   ],
   "source": [
    "function nufft(\n",
    "        input::AbstractArray{T},\n",
    "        coord::AbstractArray{T},\n",
    "        oversamp::T = 1.25,\n",
    "        width::Int64 = 4,\n",
    "        n::Int64 = 128) where {\n",
    "            T<:Real,\n",
    "            FloatArray<:AbstractArray{T}}\n",
    "    return nufft(convert.(Complex, img), coord, oversamp, width)\n",
    "end"
   ]
  },
  {
   "cell_type": "code",
   "execution_count": 79,
   "metadata": {},
   "outputs": [
    {
     "data": {
      "text/plain": [
       "nufft_adjoint"
      ]
     },
     "execution_count": 79,
     "metadata": {},
     "output_type": "execute_result"
    }
   ],
   "source": [
    "@doc raw\"\"\"\n",
    "Adjoint non-uniform Fast Fourier Transform.\n",
    "\n",
    "**Arguments**:\n",
    "- `input (ArrayType{T} or ArrayType{Complex{T}})`: input Fourier domain array of shape\n",
    "    ``(n_k, \\ldots, n_{l + 1}, m_l, \\ldots, m_1)``,\n",
    "    where ``ndim`` is specified by `size(coord)[end]`.\n",
    "    That is, the last dimensions\n",
    "    of input must match the first dimensions of coord.\n",
    "    The nufft_adjoint is applied on the last coord.ndim - 1 axes,\n",
    "    and looped over the remaining axes.\n",
    "- `coord (ArrayType{T})`: Fourier domain coordinate array of shape ``(m_l, \\ldots, m_1, ndim)``.\n",
    "    ``ndim`` determines the number of dimensions to apply the nufft.\n",
    "    `coord[..., i]` should be scaled to have its range ``[-n_i \\div 2, n_i \\div 2]``.\n",
    "- `oshape (NTuple{N, Int})`: output shape of the form\n",
    "            ``(o_l, \\ldots, o_{ndim + 1}, n_{ndim}, \\ldots, n_2, n_1)``. (optional)\n",
    "- `oversamp (Float32)`: oversampling factor (default: $1.25$)\n",
    "- `width (Int64)`: interpolation kernel full-width in terms of\n",
    "    oversampled grid. (default: $4$)\n",
    "- `n (Int64)`: number of sampling points of the interpolation kernel. (default: $128$)\n",
    "\n",
    "**Returns**:\n",
    "- `ArrayType{Complex{T}}`: Fourier domain data of shape\n",
    "    ``(n_k, \\ldots, n_{ndim + 1}, n_{ndim}, \\ldots, n_2, n_1)`` or\n",
    "    ``(o_l, \\ldots, o_{ndim + 1}, n_{ndim}, \\ldots, n_2, n_1)`` if `oshape` is given.\n",
    "\n",
    "**References**:\n",
    "- Fessler, J. A., & Sutton, B. P. (2003).\n",
    "  \"Nonuniform fast Fourier transforms using min-max interpolation\",\n",
    "  *IEEE Transactions on Signal Processing*, 51(2), 560-574.\n",
    "- Beatty, P. J., Nishimura, D. G., & Pauly, J. M. (2005).\n",
    "  \"Rapid gridding reconstruction with a minimal oversampling ratio,\"\n",
    "  *IEEE transactions on medical imaging*, 24(6), 799-808.\n",
    "\n",
    "\"\"\"\n",
    "function nufft_adjoint(\n",
    "        input::AbstractArray{Complex{T}},\n",
    "        coord::AbstractArray{T},\n",
    "        oshape::Union{NTuple{N, Int}, Nothing} = nothing,\n",
    "        oversamp::Float64 = 1.25,\n",
    "        width::Int64 = 4,\n",
    "        n::Int64 = 128) where {T, N}\n",
    "    \n",
    "    ndim = size(coord)[end]\n",
    "    \n",
    "    β = π * √(((width / oversamp) * (oversamp - 0.5))^2 - 0.8)\n",
    "    (oshape isa Nothing) && (oshape = tuple(size(input)[1:end-ndims(coord)+1]..., estimate_shape(coord)...))\n",
    "    oversampled_shape = _get_oversamp_shape(oshape, ndim, oversamp)\n",
    "\n",
    "    # Gridding\n",
    "    coord = _scale_coord(coord, oshape, oversamp)\n",
    "    x = range(0, stop=n-1, step=1) ./ n\n",
    "    kernel = window_kaiser_bessel.(x, width, β)\n",
    "    output = gridding(input, oversampled_shape, width, kernel, coord)\n",
    "\n",
    "    # IFFT\n",
    "    all_dims = ndims(output)\n",
    "    output = centering_ifft!(convert.(Complex, output), tuple((all_dims-ndim+1:all_dims)...))\n",
    "\n",
    "    # Crop\n",
    "    output = resize(output, oshape)\n",
    "    output .*= prod(oversampled_shape[end-ndim+1:end]) ./ √(prod(oshape[end-ndim+1:end]))\n",
    "\n",
    "    # Apodize\n",
    "    _apodize!(output, ndim, oversamp, width, β)\n",
    "\n",
    "    return output\n",
    "end"
   ]
  },
  {
   "cell_type": "code",
   "execution_count": 80,
   "metadata": {},
   "outputs": [
    {
     "data": {
      "text/plain": [
       "estimate_shape"
      ]
     },
     "execution_count": 80,
     "metadata": {},
     "output_type": "execute_result"
    }
   ],
   "source": [
    "\"\"\"\n",
    "Estimate array shape from coordinates.\n",
    "\n",
    "Shape is estimated by the different between maximum and minimum of\n",
    "coordinates in each axis.\n",
    "\n",
    "Args:\n",
    "    `coord (AbstractArray)`: Coordinates.\n",
    "\"\"\"\n",
    "function estimate_shape(coord)\n",
    "    dims = tuple((1:ndims(coord)-1)...)\n",
    "    return floor.(Int64, dropdims(maximum(coord, dims=dims), dims=dims) -\n",
    "        dropdims(minimum(coord, dims=dims), dims=(dims)))\n",
    "end"
   ]
  },
  {
   "cell_type": "code",
   "execution_count": 81,
   "metadata": {},
   "outputs": [
    {
     "data": {
      "text/plain": [
       "ifftshift! (generic function with 2 methods)"
      ]
     },
     "execution_count": 81,
     "metadata": {},
     "output_type": "execute_result"
    }
   ],
   "source": [
    "function fftshift!(\n",
    "        output::AbstractArray,\n",
    "        input::AbstractArray,\n",
    "        dims::NTuple{N,Int}) where {N}\n",
    "    \n",
    "    @assert input !== output \"input and output must be two distinct arrays\"\n",
    "    @assert any(dims .> 0) \"dims can contain only positive values!\"\n",
    "    @assert any(dims .<= ndims(input)) \"dims cannot contain larger value than ndims(input) (=$(ndims(input)))\"\n",
    "    @assert size(output) == size(input) \"input and output must have the same size\"\n",
    "    @assert eltype(output) == eltype(input) \"input and output must have the same eltype\"\n",
    "    \n",
    "    shifts = [dim in dims ? size(input, dim) ÷ 2 : 0 for dim in 1:ndims(input)]\n",
    "    circshift!(output, input, shifts)\n",
    "    \n",
    "end\n",
    "\n",
    "function ifftshift!(\n",
    "        output::AbstractArray,\n",
    "        input::AbstractArray,\n",
    "        dims::NTuple{N,Int}) where {N}\n",
    "    \n",
    "    @assert input !== output \"input and output must be two distinct arrays\"\n",
    "    @assert any(dims .> 0) \"dims can contain only positive values!\"\n",
    "    @assert any(dims .<= ndims(input)) \"dims cannot contain larger value than ndims(input) (=$(ndims(input)))\"\n",
    "    @assert size(output) == size(input) \"input and output must have the same size\"\n",
    "    @assert eltype(output) == eltype(input) \"input and output must have the same eltype\"\n",
    "    \n",
    "    shifts = [dim in dims ? size(input, dim) ÷ 2 + size(input, dim) % 2 : 0 for dim in 1:ndims(input)]\n",
    "    circshift!(output, input, shifts)\n",
    "    \n",
    "end\n",
    "\n",
    "fftshift!(output::AbstractArray, input::AbstractArray, dims::Int) =\n",
    "    fftshift!(output, input, (dims,))\n",
    "\n",
    "ifftshift!(output::AbstractArray, input::AbstractArray, dims::Int) =\n",
    "    ifftshift!(output, input, (dims,))"
   ]
  },
  {
   "cell_type": "code",
   "execution_count": 82,
   "metadata": {},
   "outputs": [
    {
     "data": {
      "text/plain": [
       "centering_fft!"
      ]
     },
     "execution_count": 82,
     "metadata": {},
     "output_type": "execute_result"
    }
   ],
   "source": [
    "\"\"\"\n",
    "FFT function that supports centering.\n",
    "\n",
    "**Arguments**:\n",
    "    input (AbstractArray{T,N}): input array.\n",
    "    dims (NTuple{K,Int64}): Axes over which to compute the FFT (optional).\n",
    "\n",
    "**Returns**:\n",
    "    AbstractArray: FFT result.\n",
    "\n",
    "\"\"\"\n",
    "function centering_fft!(\n",
    "        input::AbstractArray{Complex{T},N},\n",
    "        dims::Union{NTuple{K,Int64},Nothing} = nothing) where {N,K,T}\n",
    "    (dims isa Nothing) && (dims = tuple(collect(1:ndims(input))...))\n",
    "    output = ifftshift(input, dims)\n",
    "    fft!(output, dims)\n",
    "    fftshift!(input, output, dims)\n",
    "    input\n",
    "end"
   ]
  },
  {
   "cell_type": "code",
   "execution_count": 83,
   "metadata": {},
   "outputs": [
    {
     "data": {
      "text/plain": [
       "centering_ifft!"
      ]
     },
     "execution_count": 83,
     "metadata": {},
     "output_type": "execute_result"
    }
   ],
   "source": [
    "\"\"\"\n",
    "inverse FFT function that supports centering.\n",
    "\n",
    "**Arguments**:\n",
    "    input (AbstractArray{T,N}): input array.\n",
    "    dims (NTuple{K,Int64}): Axes over which to compute the inverse FFT (optional).\n",
    "\n",
    "**Returns**:\n",
    "    AbstractArray: inverse FFT result.\n",
    "\n",
    "\"\"\"\n",
    "function centering_ifft!(\n",
    "        input::AbstractArray{Complex{T},N},\n",
    "        dims::Union{NTuple{K,Int64},Nothing} = nothing) where {N,K,T}\n",
    "    (dims isa Nothing) && (dims = tuple(collect(1:ndims(input))...))\n",
    "    output = ifftshift(input, dims)\n",
    "    ifft!(output, dims)\n",
    "    fftshift!(input, output, dims)\n",
    "    input\n",
    "end"
   ]
  },
  {
   "cell_type": "code",
   "execution_count": 84,
   "metadata": {},
   "outputs": [
    {
     "data": {
      "text/plain": [
       "resize"
      ]
     },
     "execution_count": 84,
     "metadata": {},
     "output_type": "execute_result"
    }
   ],
   "source": [
    "\"\"\"\n",
    "Resize with zero-padding or cropping.\n",
    "\n",
    "**Arguments**:\n",
    "    `input (AbstractArray{T,N})`: Input array.\n",
    "    `oshape (NTuple{N,Int64})`: Output shape.\n",
    "    `ishift (NTuple{N,Int64})`: Input shift (optional).\n",
    "    `oshift (NTuple{N,Int64})`: Output shift (optional).\n",
    "\n",
    "**Returns**:\n",
    "    `array`: Zero-padded or cropped result.\n",
    "\"\"\"\n",
    "function resize(\n",
    "        input::AbstractArray{T,N},\n",
    "        oshape::NTuple{N,Int64},\n",
    "        ishift::Union{NTuple{N,Int64}, Nothing} = nothing,\n",
    "        oshift::Union{NTuple{N,Int64}, Nothing} = nothing) where {N,T}\n",
    "\n",
    "    ishape1, oshape1 = _expand_shapes(size(input), oshape)\n",
    "\n",
    "    if ishape1 == oshape1\n",
    "        return reshape(input, oshape)\n",
    "    end\n",
    "\n",
    "    if ishift isa Nothing\n",
    "        ishift = [max(i ÷ 2 - o ÷ 2, 0) for (i, o) in zip(collect(ishape1), collect(oshape1))]\n",
    "    end\n",
    "\n",
    "    if oshift isa Nothing\n",
    "        oshift = [max(o ÷ 2 - i ÷ 2, 0) for (i, o) in zip(collect(ishape1), collect(oshape1))]\n",
    "    end\n",
    "\n",
    "    copy_shape = [min(i - si, o - so)\n",
    "                  for (i, si, o, so) in zip(collect(ishape1), ishift, collect(oshape1), oshift)]\n",
    "    islice = collect(si+1:si+c for (si, c) in zip(ishift, copy_shape))\n",
    "    oslice = collect(so+1:so+c for (so, c) in zip(oshift, copy_shape))\n",
    "\n",
    "    output = zeros(eltype(input), oshape1)\n",
    "    input = reshape(input, ishape1)\n",
    "    output[oslice...] = input[islice...]\n",
    "\n",
    "    return reshape(output, oshape)\n",
    "end"
   ]
  },
  {
   "cell_type": "code",
   "execution_count": 85,
   "metadata": {},
   "outputs": [
    {
     "data": {
      "text/plain": [
       "_get_oversamp_shape (generic function with 1 method)"
      ]
     },
     "execution_count": 85,
     "metadata": {},
     "output_type": "execute_result"
    }
   ],
   "source": [
    "function _get_oversamp_shape(shape, ndim, oversamp)\n",
    "    return tuple(vcat(shape[1:end-ndim]..., [ceil(Int64, oversamp * i) for i in shape[end-ndim+1:end]]...)...)\n",
    "end"
   ]
  },
  {
   "cell_type": "code",
   "execution_count": 86,
   "metadata": {},
   "outputs": [
    {
     "data": {
      "text/plain": [
       "_apodize! (generic function with 1 method)"
      ]
     },
     "execution_count": 86,
     "metadata": {},
     "output_type": "execute_result"
    }
   ],
   "source": [
    "function _apodize!(signal, apodized_dims, oversamp, width, β)\n",
    "    \n",
    "    all_dims = ndims(signal)\n",
    "    untouched_dims = all_dims - apodized_dims\n",
    "    for axis in range(untouched_dims + 1, all_dims, step=1)\n",
    "        axis_size = size(signal, axis)\n",
    "        oversampled_size = ceil(oversamp * axis_size)\n",
    "        \n",
    "        # Calculate apodization window\n",
    "        recip_iFFT_Kaiser_Bessel_kernel(x) = begin\n",
    "            tmp = √(β^2 - (π * width * (x - axis_size ÷ 2) / oversampled_size)^2)\n",
    "            tmp /= sinh(tmp)\n",
    "            tmp\n",
    "        end\n",
    "        window = recip_iFFT_Kaiser_Bessel_kernel.(0:axis_size-1)\n",
    "        \n",
    "        # Apply point-wise along selected axis, broadcast along all other dimensions\n",
    "        broadcast_shape = ones(Int64, all_dims)\n",
    "        broadcast_shape[axis] = axis_size\n",
    "        signal .*= reshape(window, broadcast_shape...)\n",
    "    end\n",
    "    return signal\n",
    "end"
   ]
  },
  {
   "cell_type": "code",
   "execution_count": 87,
   "metadata": {},
   "outputs": [
    {
     "data": {
      "text/plain": [
       "_scale_coord (generic function with 1 method)"
      ]
     },
     "execution_count": 87,
     "metadata": {},
     "output_type": "execute_result"
    }
   ],
   "source": [
    "function _scale_coord(coord, shape, oversamp)\n",
    "    ndim = size(coord)[end]\n",
    "    scale = reshape([ceil(oversamp * i) / i for i in shape[end-ndim+1:end]], 1, ndim)\n",
    "    shift = reshape([ceil(oversamp * i) ÷ 2 for i in shape[end-ndim+1:end]], 1, ndim)\n",
    "    return scale .* coord .+ shift\n",
    "end"
   ]
  },
  {
   "cell_type": "code",
   "execution_count": 88,
   "metadata": {},
   "outputs": [
    {
     "data": {
      "text/plain": [
       "window_kaiser_bessel (generic function with 1 method)"
      ]
     },
     "execution_count": 88,
     "metadata": {},
     "output_type": "execute_result"
    }
   ],
   "source": [
    "window_kaiser_bessel(x::Real, m::Int64, β::Real)::Real = 1 / m * besseli(0, β * √(1 - x^2))"
   ]
  },
  {
   "cell_type": "code",
   "execution_count": 89,
   "metadata": {},
   "outputs": [
    {
     "data": {
      "text/plain": [
       "_expand_shapes (generic function with 1 method)"
      ]
     },
     "execution_count": 89,
     "metadata": {},
     "output_type": "execute_result"
    }
   ],
   "source": [
    "function _expand_shapes(shapes...)\n",
    "    max_ndim = maximum(length, shapes)\n",
    "    return map(shape -> tuple(vcat(repeat([1], max_ndim - length(shape)), collect(shape))...), shapes)\n",
    "end"
   ]
  },
  {
   "cell_type": "code",
   "execution_count": 90,
   "metadata": {},
   "outputs": [
    {
     "data": {
      "text/plain": [
       "interpolate"
      ]
     },
     "execution_count": 90,
     "metadata": {},
     "output_type": "execute_result"
    }
   ],
   "source": [
    "@doc raw\"\"\"\n",
    "    Interpolation from array to points specified by coordinates.\n",
    "\n",
    "    Let ``x`` be the input, ``y`` be the output,\n",
    "    ``c`` be the coordinates, ``W`` be the kernel width,\n",
    "    and ``K`` be the interpolation kernel, then the function computes,\n",
    "\n",
    "    ```math\n",
    "        y[j] = \\sum_{i : \\| i - c[j] \\|_\\infty \\leq W / 2}\n",
    "               K\\left(\\frac{i - c[j]}{W / 2}\\right) x[i]\n",
    "    ```\n",
    "\n",
    "    **Arguments**:\n",
    "        `input (AbstractArray)`: Input array of shape\n",
    "            ``(n_1, n_2, \\ldots, n_{ndim})``.\n",
    "        `width (Int)`: Interpolation kernel full-width.\n",
    "        `kernel (AbstractArray{T, 1})`: Interpolation kernel.\n",
    "        `coord (AbstractArray)`: Coordinate array of shape ``(m_l, \\ldots, m_1, ndim)``\n",
    "\n",
    "    **Returns**:\n",
    "        `output (AbstractArray)`: Output array of shape ``(m_l, \\ldots, m_1)``\n",
    "    \"\"\"\n",
    "function interpolate(\n",
    "        input::AbstractArray,\n",
    "        width::Int,\n",
    "        kernel::AbstractArray{T, 1},\n",
    "        coord::AbstractArray{T}) where {T<:Real}\n",
    "    ndim = size(coord, 2)\n",
    "    npts = size(coord, 1)\n",
    "    @assert(ndims(input) ≥ ndim, \"The size of coord along the last dimension\n",
    "        should be greater or equal then the dimensionality of input.\")\n",
    "    \n",
    "    is_complex(x::AbstractArray{Complex{T}}) where T = true\n",
    "    is_complex(x::AbstractArray{T}) where T = false\n",
    "    get_complex_subtype(x::AbstractArray{Complex{T}}) where T = T\n",
    "    if is_complex(input)\n",
    "        @assert(get_complex_subtype(input) == eltype(coord),\n",
    "            \"Precision of eltype of input and coord should match: $(get_complex_subtype(input)) in $(eltype(input)) vs $(eltype(coord))\")\n",
    "    else\n",
    "        @assert(eltype(input) == eltype(coord),\n",
    "            \"Precision of eltype of input and coord should match: $(eltype(input)) vs $(eltype(coord))\")\n",
    "    end\n",
    "    \n",
    "    batch_shape = size(input)[1:end-ndim]\n",
    "    batch_size = prod(batch_shape)\n",
    "\n",
    "    pts_shape = size(coord)[1:end-1]\n",
    "    npts = prod(pts_shape)\n",
    "\n",
    "    input = reshape(input, tuple(batch_size, size(input)[end-ndim+1:end]...))\n",
    "    coord = reshape(coord, (npts, ndim))\n",
    "    output = zeros(eltype(input), (batch_size, npts))\n",
    "\n",
    "    _interpolate!(output, input, coord, kernel, width)\n",
    "\n",
    "    return reshape(output, tuple(batch_shape..., pts_shape...))\n",
    "end"
   ]
  },
  {
   "cell_type": "code",
   "execution_count": 91,
   "metadata": {},
   "outputs": [
    {
     "data": {
      "text/plain": [
       "gridding"
      ]
     },
     "execution_count": 91,
     "metadata": {},
     "output_type": "execute_result"
    }
   ],
   "source": [
    "@doc raw\"\"\"\n",
    "    Gridding of points specified by coordinates to array.\n",
    "\n",
    "    Let ``x`` be the input, ``y`` be the output,\n",
    "    ``c`` be the coordinates, ``W`` be the kernel width,\n",
    "    and ``K`` be the interpolation kernel, then the function computes,\n",
    "\n",
    "    ```math\n",
    "        y[j] = \\sum_{i : \\| i - c[j] \\|_\\infty \\leq W / 2}\n",
    "               K\\left(\\frac{i - c[j]}{W / 2}\\right) x[i]\n",
    "    ```\n",
    "\n",
    "    **Arguments**:\n",
    "        `input (AbstractArray)`: Input array of shape\n",
    "            ``(m_l, \\ldots, m_1)``.\n",
    "        `oshape (Ntuple{N, Int})`: Shape of output\n",
    "        `width (Real or NTuple{N, Real})`: Interpolation kernel full-width.\n",
    "        `kernel (AbstractArray{T, 1})`: Interpolation kernel.\n",
    "        `coord (AbstractArray)`: Coordinate array of shape ````(m_l, \\ldots, m_1, ndim)``\n",
    "\n",
    "    **Returns**:\n",
    "        `output (AbstractArray)`: Output array.\n",
    "    \"\"\"\n",
    "function gridding(\n",
    "        input::AbstractArray,\n",
    "        oshape::NTuple{N, Int},\n",
    "        width::Int64,\n",
    "        kernel::AbstractArray{T, 1},\n",
    "        coord::AbstractArray{T}) where {T<:Real, N}\n",
    "    \n",
    "    ndim = size(coord, 2)\n",
    "    batch_shape = oshape[1:end-ndim]\n",
    "    batch_size = prod(batch_shape)\n",
    "    \n",
    "    pts_shape = size(coord)[1:end-1]\n",
    "    npts = prod(pts_shape)\n",
    "    \n",
    "    @assert(size(input)[length(batch_shape)+1:end] == pts_shape,\n",
    "        \"The size of input must match the size of coord, excluding the last dimension.\")\n",
    "    \n",
    "    is_complex(x::AbstractArray{Complex{T}}) where T = true\n",
    "    is_complex(x::AbstractArray{T}) where T = false\n",
    "    get_complex_subtype(x::AbstractArray{Complex{T}}) where T = T\n",
    "    if is_complex(input)\n",
    "        @assert(get_complex_subtype(input) == eltype(coord),\n",
    "            \"Precision of eltype of input and coord should match: $(get_complex_subtype(input)) in $(eltype(input)) vs $(eltype(coord))\")\n",
    "    else\n",
    "        @assert(eltype(input) == eltype(coord),\n",
    "            \"Precision of eltype of input and coord should match: $(eltype(input)) vs $(eltype(coord))\")\n",
    "    end\n",
    "\n",
    "    input = reshape(input, tuple(batch_size, npts))\n",
    "    coord = reshape(coord, (npts, ndim))\n",
    "    output = zeros(eltype(input), tuple(batch_size, oshape[end-ndim+1:end]...))\n",
    "\n",
    "    _gridding!(output, input, coord, kernel, width)\n",
    "\n",
    "    return reshape(output, oshape)\n",
    "end"
   ]
  },
  {
   "cell_type": "code",
   "execution_count": 18,
   "metadata": {},
   "outputs": [
    {
     "data": {
      "text/plain": [
       "lin_interpolate (generic function with 1 method)"
      ]
     },
     "execution_count": 18,
     "metadata": {},
     "output_type": "execute_result"
    }
   ],
   "source": [
    "function lin_interpolate(kernel::AbstractArray{T,1}, x::T)::T where T\n",
    "    x >= 1 && return zero(x)\n",
    "    \n",
    "    n = length(kernel)\n",
    "    idx = floor(Int64, x * n)\n",
    "    frac = x * n - idx\n",
    "\n",
    "    left = kernel[idx + 1]\n",
    "    right = idx < n - 1 ? kernel[idx + 2] : zero(x)\n",
    "    \n",
    "    return (1 - frac) * left + frac * right\n",
    "end"
   ]
  },
  {
   "cell_type": "code",
   "execution_count": 19,
   "metadata": {},
   "outputs": [
    {
     "data": {
      "text/plain": [
       "@interpolate_point (macro with 1 method)"
      ]
     },
     "execution_count": 19,
     "metadata": {},
     "output_type": "execute_result"
    }
   ],
   "source": [
    "macro interpolate_point(ndim)\n",
    "    batch_plus_ndim = ndim + 1\n",
    "    esc(quote\n",
    "        input_shape = size(input)\n",
    "        batch_size = input_shape[1]\n",
    "        @nextract($ndim, n, d -> input_shape[$batch_plus_ndim-d+1])\n",
    "        @nextract($ndim, interval_middle,\n",
    "                d -> coord[point_index, $batch_plus_ndim - d])\n",
    "        @nextract($ndim, interval_start,\n",
    "                d -> ceil(Int64, interval_middle_d - width / 2))\n",
    "        @nextract($ndim, interval_end,\n",
    "                d -> floor(Int64, interval_middle_d + width / 2))\n",
    "        $(Symbol(:w_, batch_plus_ndim)) = 1\n",
    "        @nloops($ndim, i, d -> interval_start_d:interval_end_d,\n",
    "            d -> w_d = w_{d+1} *\n",
    "                lin_interpolate(kernel, abs(i_d - interval_middle_d) / (width / 2)),\n",
    "            for b in 1:batch_size\n",
    "                output[b, point_index] += w_1 * input[b,\n",
    "                    @ntuple($ndim, d -> (i_{$ndim-d+1} + n_{$ndim-d+1}) % n_{$ndim-d+1} + 1)...]\n",
    "            end)\n",
    "    end)\n",
    "end"
   ]
  },
  {
   "cell_type": "code",
   "execution_count": 195,
   "metadata": {},
   "outputs": [
    {
     "data": {
      "text/plain": [
       "@gridding_point (macro with 1 method)"
      ]
     },
     "execution_count": 195,
     "metadata": {},
     "output_type": "execute_result"
    }
   ],
   "source": [
    "macro gridding_point(ndim)\n",
    "    batch_plus_ndim = ndim + 1\n",
    "    esc(quote\n",
    "        output_shape = size(output[1])\n",
    "        batch_size = output_shape[1]\n",
    "        @nextract($ndim, n, d -> output_shape[$batch_plus_ndim-d+1])\n",
    "        @nextract($ndim, interval_middle,\n",
    "                d -> coord[point_index, $batch_plus_ndim - d])\n",
    "        @nextract($ndim, interval_start,\n",
    "                d -> ceil(Int64, interval_middle_d - width / 2))\n",
    "        @nextract($ndim, interval_end,\n",
    "                d -> floor(Int64, interval_middle_d + width / 2))\n",
    "        $(Symbol(:w_, batch_plus_ndim)) = 1\n",
    "        @nloops($ndim, i, d -> interval_start_d:interval_end_d,\n",
    "            d -> w_d = w_{d+1} *\n",
    "                lin_interpolate(kernel, abs(i_d - interval_middle_d) / (width / 2)),\n",
    "            for b in 1:batch_size\n",
    "                output[thread_id][b, @ntuple($ndim, d -> (i_{$ndim-d+1} + n_{$ndim-d+1}) % n_{$ndim-d+1} + 1)...] +=\n",
    "                    w_1 * input[b, point_index] \n",
    "            end)\n",
    "    end)\n",
    "end"
   ]
  },
  {
   "cell_type": "code",
   "execution_count": 196,
   "metadata": {},
   "outputs": [
    {
     "data": {
      "text/plain": [
       "addLineNumbers (generic function with 1 method)"
      ]
     },
     "execution_count": 196,
     "metadata": {},
     "output_type": "execute_result"
    }
   ],
   "source": [
    "# It is not a necessary function, but might help to debug transformed code\n",
    "# Add line numbers matching the lines of transformed code (the call stack will be more \n",
    "# informative then if an error occures inside the transformed code)\n",
    "function addLineNumbers(expr)\n",
    "    # Remove previous line numbers and add correct ones instead\n",
    "    result = Meta.parse(string(MacroTools.striplines(expr)))\n",
    "    # fix LineNumberNodes to be more informative\n",
    "    MacroTools.postwalk(result) do x\n",
    "        x isa LineNumberNode ?\n",
    "            LineNumberNode(x.line, Symbol(\"generated_code_of_interpolate\")) :\n",
    "            x\n",
    "    end\n",
    "end"
   ]
  },
  {
   "cell_type": "code",
   "execution_count": 197,
   "metadata": {},
   "outputs": [
    {
     "data": {
      "text/plain": [
       "pretty_print_expression (generic function with 1 method)"
      ]
     },
     "execution_count": 197,
     "metadata": {},
     "output_type": "execute_result"
    }
   ],
   "source": [
    "function pretty_print_expression(expr; withLineNumbers=false)\n",
    "    expr = MacroTools.prewalk(x -> MacroTools.isgensym(x) ? Symbol(MacroTools.gensymname(x)) : x, expr) \n",
    "    expr = MacroTools.prewalk(unblock, expr)\n",
    "    expr = addLineNumbers(expr)\n",
    "    print(withLineNumbers ? expr : MacroTools.striplines(expr))\n",
    "end"
   ]
  },
  {
   "cell_type": "code",
   "execution_count": 198,
   "metadata": {},
   "outputs": [
    {
     "name": "stdout",
     "output_type": "stream",
     "text": [
      "begin\n",
      "    output_shape = size(output[1])\n",
      "    batch_size = output_shape[1]\n",
      "    begin\n",
      "        n_1 = output_shape[4]\n",
      "        n_2 = output_shape[3]\n",
      "        n_3 = output_shape[2]\n",
      "    end\n",
      "    begin\n",
      "        interval_middle_1 = coord[point_index, 3]\n",
      "        interval_middle_2 = coord[point_index, 2]\n",
      "        interval_middle_3 = coord[point_index, 1]\n",
      "    end\n",
      "    begin\n",
      "        interval_start_1 = ceil(Int64, interval_middle_1 - width / 2)\n",
      "        interval_start_2 = ceil(Int64, interval_middle_2 - width / 2)\n",
      "        interval_start_3 = ceil(Int64, interval_middle_3 - width / 2)\n",
      "    end\n",
      "    begin\n",
      "        interval_end_1 = floor(Int64, interval_middle_1 + width / 2)\n",
      "        interval_end_2 = floor(Int64, interval_middle_2 + width / 2)\n",
      "        interval_end_3 = floor(Int64, interval_middle_3 + width / 2)\n",
      "    end\n",
      "    w_4 = 1\n",
      "    for i_3 = interval_start_3:interval_end_3\n",
      "        w_3 = w_4 * lin_interpolate(kernel, abs(i_3 - interval_middle_3) / (width / 2))\n",
      "        for i_2 = interval_start_2:interval_end_2\n",
      "            w_2 = w_3 * lin_interpolate(kernel, abs(i_2 - interval_middle_2) / (width / 2))\n",
      "            for i_1 = interval_start_1:interval_end_1\n",
      "                w_1 = w_2 * lin_interpolate(kernel, abs(i_1 - interval_middle_1) / (width / 2))\n",
      "                for b = 1:batch_size\n",
      "                    (output[thread_id])[b, ((i_3 + n_3) % n_3 + 1, (i_2 + n_2) % n_2 + 1, (i_1 + n_1) % n_1 + 1)...] += w_1 * input[b, point_index]\n",
      "                end\n",
      "                nothing\n",
      "            end\n",
      "            nothing\n",
      "        end\n",
      "        nothing\n",
      "    end\n",
      "end"
     ]
    }
   ],
   "source": [
    "pretty_print_expression(@macroexpand(@gridding_point(3)), withLineNumbers=false)"
   ]
  },
  {
   "cell_type": "code",
   "execution_count": 199,
   "metadata": {},
   "outputs": [
    {
     "data": {
      "text/plain": [
       "_interpolate_point! (generic function with 2 methods)"
      ]
     },
     "execution_count": 199,
     "metadata": {},
     "output_type": "execute_result"
    }
   ],
   "source": [
    "@generated function _interpolate_point!(\n",
    "        output::AbstractArray{Complex{T}, 2},\n",
    "        input::AbstractArray{Complex{T}, D},\n",
    "        coord::AbstractArray{T, 2},\n",
    "        kernel::AbstractArray{T, 1},\n",
    "        width::Int64,\n",
    "        point_index::Int64) where {T, D}\n",
    "    quote\n",
    "        @interpolate_point $(D-1)\n",
    "    end\n",
    "end"
   ]
  },
  {
   "cell_type": "code",
   "execution_count": 200,
   "metadata": {},
   "outputs": [
    {
     "data": {
      "text/plain": [
       "_interpolate_point! (generic function with 2 methods)"
      ]
     },
     "execution_count": 200,
     "metadata": {},
     "output_type": "execute_result"
    }
   ],
   "source": [
    "@generated function _interpolate_point!(\n",
    "        output::AbstractArray{T, 2},\n",
    "        input::AbstractArray{T, D},\n",
    "        coord::AbstractArray{T, 2},\n",
    "        kernel::AbstractArray{T, 1},\n",
    "        width::Int64,\n",
    "        point_index::Int64) where {T, D}\n",
    "    quote\n",
    "        @interpolate_point $(D-1)\n",
    "    end\n",
    "end"
   ]
  },
  {
   "cell_type": "code",
   "execution_count": 201,
   "metadata": {},
   "outputs": [
    {
     "data": {
      "text/plain": [
       "_interpolate! (generic function with 2 methods)"
      ]
     },
     "execution_count": 201,
     "metadata": {},
     "output_type": "execute_result"
    }
   ],
   "source": [
    "function _interpolate!(\n",
    "        output::AbstractArray{Complex{T}, 2},\n",
    "        input::AbstractArray{Complex{T}, D},\n",
    "        coord::AbstractArray{T, 2},\n",
    "        kernel::AbstractArray{T, 1},\n",
    "        width::Int64) where {T, D}\n",
    "    Threads.@threads for point_index in 1:size(coord, 1)\n",
    "        _interpolate_point!(output, input, coord, kernel, width, point_index)\n",
    "    end\n",
    "end"
   ]
  },
  {
   "cell_type": "code",
   "execution_count": 202,
   "metadata": {},
   "outputs": [
    {
     "data": {
      "text/plain": [
       "_interpolate! (generic function with 2 methods)"
      ]
     },
     "execution_count": 202,
     "metadata": {},
     "output_type": "execute_result"
    }
   ],
   "source": [
    "function _interpolate!(\n",
    "        output::AbstractArray{T, 2},\n",
    "        input::AbstractArray{T, D},\n",
    "        coord::AbstractArray{T, 2},\n",
    "        kernel::AbstractArray{T, 1},\n",
    "        width::Int64) where {T, D}\n",
    "    Threads.@threads for point_index in 1:size(coord, 1)\n",
    "        _interpolate_point!(output, input, coord, kernel, width, point_index)\n",
    "    end\n",
    "end"
   ]
  },
  {
   "cell_type": "code",
   "execution_count": 203,
   "metadata": {},
   "outputs": [
    {
     "data": {
      "text/plain": [
       "_gridding_point! (generic function with 6 methods)"
      ]
     },
     "execution_count": 203,
     "metadata": {},
     "output_type": "execute_result"
    }
   ],
   "source": [
    "@generated function _gridding_point!(\n",
    "        output::NTuple{N, AbstractArray{Complex{T}, D}},\n",
    "        input::AbstractArray{Complex{T}, 2},\n",
    "        coord::AbstractArray{T, 2},\n",
    "        kernel::AbstractArray{T, 1},\n",
    "        width::Int,\n",
    "        point_index::Int,\n",
    "        thread_id::Int) where {T, D, N}\n",
    "    quote\n",
    "        @gridding_point $(D-1)\n",
    "    end\n",
    "end"
   ]
  },
  {
   "cell_type": "code",
   "execution_count": 204,
   "metadata": {},
   "outputs": [
    {
     "data": {
      "text/plain": [
       "_gridding_point! (generic function with 6 methods)"
      ]
     },
     "execution_count": 204,
     "metadata": {},
     "output_type": "execute_result"
    }
   ],
   "source": [
    "@generated function _gridding_point!(\n",
    "        output::NTuple{N, AbstractArray{T, D}},\n",
    "        input::AbstractArray{T, 2},\n",
    "        coord::AbstractArray{T, 2},\n",
    "        kernel::AbstractArray{T, 1},\n",
    "        width::Int64,\n",
    "        point_index::Int,\n",
    "        thread_id::Int) where {T, D, N}\n",
    "    quote\n",
    "        @gridding_point $(D-1)\n",
    "    end\n",
    "end"
   ]
  },
  {
   "cell_type": "code",
   "execution_count": 265,
   "metadata": {},
   "outputs": [
    {
     "data": {
      "text/plain": [
       "__gridding! (generic function with 1 method)"
      ]
     },
     "execution_count": 265,
     "metadata": {},
     "output_type": "execute_result"
    }
   ],
   "source": [
    "function __gridding!(\n",
    "        output::AbstractArray,\n",
    "        input::AbstractArray{Complex{T}, 2},\n",
    "        coord::AbstractArray{T, 2},\n",
    "        kernel::AbstractArray{T, 1},\n",
    "        width::Int64) where {T, D}\n",
    "    if Threads.nthreads() > 1 && # if threading enabled\n",
    "            size(input, 2) > 10000 && # if the problem large enough\n",
    "            Sys.free_memory() * .8 > sizeof(output) * (Threads.nthreads()-1) # if we have enough memory\n",
    "        threaded_output = tuple(output, [copy(output) for _ in 2:Threads.nthreads()]...)\n",
    "        Threads.@threads for point_index in 1:size(coord, 1)\n",
    "            _gridding_point!(threaded_output, input, coord, kernel, width, point_index, Threads.threadid())\n",
    "        end\n",
    "        for i in 2:length(threaded_output)\n",
    "            output .+= threaded_output[i]\n",
    "        end\n",
    "    else\n",
    "        for point_index in 1:size(coord, 1)\n",
    "            _gridding_point!((output,), input, coord, kernel, width, point_index, 1)\n",
    "        end\n",
    "    end\n",
    "end"
   ]
  },
  {
   "cell_type": "code",
   "execution_count": 240,
   "metadata": {},
   "outputs": [
    {
     "data": {
      "text/plain": [
       "_gridding! (generic function with 2 methods)"
      ]
     },
     "execution_count": 240,
     "metadata": {},
     "output_type": "execute_result"
    }
   ],
   "source": [
    "function _gridding!(\n",
    "        output::AbstractArray{Complex{T}, D},\n",
    "        input::AbstractArray{Complex{T}, 2},\n",
    "        coord::AbstractArray{T, 2},\n",
    "        kernel::AbstractArray{T, 1},\n",
    "        width::Int64) where {T, D}\n",
    "    __gridding!(output, input, coord, kernel, width)\n",
    "end"
   ]
  },
  {
   "cell_type": "code",
   "execution_count": 241,
   "metadata": {},
   "outputs": [
    {
     "data": {
      "text/plain": [
       "_gridding! (generic function with 2 methods)"
      ]
     },
     "execution_count": 241,
     "metadata": {},
     "output_type": "execute_result"
    }
   ],
   "source": [
    "function _gridding!(\n",
    "        output::AbstractArray{T, D},\n",
    "        input::AbstractArray{T, 2},\n",
    "        coord::AbstractArray{T, 2},\n",
    "        kernel::AbstractArray{T, 1},\n",
    "        width::Int64) where {T, D}\n",
    "    __gridding!(output, input, coord, kernel, width)\n",
    "end"
   ]
  },
  {
   "cell_type": "markdown",
   "metadata": {},
   "source": [
    "## Compare with reference implementation"
   ]
  },
  {
   "cell_type": "markdown",
   "metadata": {},
   "source": [
    "### Comparing output"
   ]
  },
  {
   "cell_type": "code",
   "execution_count": 178,
   "metadata": {},
   "outputs": [],
   "source": [
    "sp = pyimport(\"sigpy\")\n",
    "interp = pyimport(\"sigpy.interp\")\n",
    "util = pyimport(\"sigpy.util\");"
   ]
  },
  {
   "cell_type": "code",
   "execution_count": 36,
   "metadata": {},
   "outputs": [],
   "source": [
    "py\"\"\"\n",
    "def nufft(input, coord, oversamp=1.25, width=4.0, n=128):\n",
    "    ndim = coord.shape[-1]\n",
    "    beta = np.pi * (((width / oversamp) * (oversamp - 0.5))**2 - 0.8)**0.5\n",
    "    os_shape = _get_oversamp_shape(input.shape, ndim, oversamp)\n",
    "\n",
    "    output = input.copy()\n",
    "\n",
    "    # Apodize\n",
    "    _apodize(output, ndim, oversamp, width, beta)\n",
    "\n",
    "    # Zero-pad\n",
    "    output /= util.prod(input.shape[-ndim:])**0.5\n",
    "    output = util.resize(output, os_shape)\n",
    "\n",
    "    # FFT\n",
    "    output = sp.fft(output, axes=range(-ndim, 0), norm=None)\n",
    "\n",
    "    # Interpolate\n",
    "    coord = _scale_coord(coord, input.shape, oversamp)\n",
    "    kernel = _get_kaiser_bessel_kernel(n, width, beta)\n",
    "    output = interp.interpolate(output, width, kernel, coord)\n",
    "\n",
    "    return output\n",
    "\n",
    "def _get_kaiser_bessel_kernel(n, width, beta):\n",
    "    x = np.arange(n) / n\n",
    "    kernel = 1 / width * np.i0(beta * (1 - x**2)**0.5)\n",
    "    return kernel\n",
    "\n",
    "def _scale_coord(coord, shape, oversamp):\n",
    "    ndim = coord.shape[-1]\n",
    "    scale = [ceil(oversamp * i) / i for i in shape[-ndim:]]\n",
    "    shift = [ceil(oversamp * i) // 2 for i in shape[-ndim:]]\n",
    "\n",
    "    coord = scale * coord + shift\n",
    "\n",
    "    return coord\n",
    "\n",
    "def _get_oversamp_shape(shape, ndim, oversamp):\n",
    "    return list(shape)[:-ndim] + [ceil(oversamp * i) for i in shape[-ndim:]]\n",
    "\n",
    "def estimate_shape(coord):\n",
    "    ndim = coord.shape[-1]\n",
    "    return [int(coord[..., i].max() - coord[..., i].min()) for i in range(ndim)]\n",
    "\n",
    "def _apodize(input, ndim, oversamp, width, beta):\n",
    "\n",
    "    output = input\n",
    "    for a in range(-ndim, 0):\n",
    "        i = output.shape[a]\n",
    "        os_i = ceil(oversamp * i)\n",
    "        idx = np.arange(i)\n",
    "\n",
    "        # Calculate apodization\n",
    "        apod = (beta**2 - (np.pi * width * (idx - i // 2) / os_i)**2)**0.5\n",
    "        apod /= np.sinh(apod)\n",
    "        output *= apod.reshape([i] + [1] * (-a - 1))\n",
    "\n",
    "    return output\n",
    "\n",
    "def interpolate(input, width, kernel, coord):\n",
    "    ndim = coord.shape[-1]\n",
    "\n",
    "    batch_shape = input.shape[:-ndim]\n",
    "    batch_size = util.prod(batch_shape)\n",
    "\n",
    "    pts_shape = coord.shape[:-1]\n",
    "    npts = util.prod(pts_shape)\n",
    "\n",
    "    isreal = np.issubdtype(input.dtype, np.floating)\n",
    "\n",
    "    input = input.reshape([batch_size] + list(input.shape[-ndim:]))\n",
    "    coord = coord.reshape([npts, ndim])\n",
    "    output = np.zeros([batch_size, npts], dtype=input.dtype)\n",
    "\n",
    "    _interpolate3(output, input, width, kernel, coord)\n",
    "\n",
    "    return output.reshape(batch_shape + pts_shape)\n",
    "\n",
    "def _interpolate3(output, input, width, kernel, coord):\n",
    "    batch_size, nz, ny, nx = input.shape\n",
    "    npts = coord.shape[0]\n",
    "\n",
    "    for i in range(npts):\n",
    "\n",
    "        kx, ky, kz = coord[i, -1], coord[i, -2], coord[i, -3]\n",
    "\n",
    "        x0, y0, z0 = (np.ceil(kx - width / 2).astype(int),\n",
    "                      np.ceil(ky - width / 2).astype(int),\n",
    "                      np.ceil(kz - width / 2).astype(int))\n",
    "\n",
    "        x1, y1, z1 = (np.floor(kx + width / 2).astype(int),\n",
    "                      np.floor(ky + width / 2).astype(int),\n",
    "                      np.floor(kz + width / 2).astype(int))\n",
    "\n",
    "        for z in range(z0, z1 + 1):\n",
    "            wz = lin_interpolate(kernel, abs(z - kz) / (width / 2))\n",
    "\n",
    "            for y in range(y0, y1 + 1):\n",
    "                wy = wz * lin_interpolate(kernel, abs(y - ky) / (width / 2))\n",
    "\n",
    "                for x in range(x0, x1 + 1):\n",
    "                    w = wy * lin_interpolate(kernel, abs(x - kx) / (width / 2))\n",
    "\n",
    "                    for b in range(batch_size):\n",
    "                        output[b, i] += w * input[b, z % nz, y % ny, x % nx]\n",
    "\n",
    "    return output\n",
    "\n",
    "def lin_interpolate(kernel, x):\n",
    "    if x >= 1:\n",
    "        return 0.0\n",
    "    n = len(kernel)\n",
    "    idx = int(x * n)\n",
    "    frac = x * n - idx\n",
    "\n",
    "    left = kernel[idx]\n",
    "    if idx == n - 1:\n",
    "        right = 0.0\n",
    "    else:\n",
    "        right = kernel[idx + 1]\n",
    "    return (1.0 - frac) * left + frac * right\n",
    "\"\"\""
   ]
  },
  {
   "cell_type": "code",
   "execution_count": 242,
   "metadata": {},
   "outputs": [],
   "source": [
    "M, shape = 1000, (34, 30, 68) #4186100, (34, 30, 68)\n",
    "img = rand(Float64, shape)\n",
    "coord = rand(Float64, M, 3) .* collect(shape)' .- collect(shape)' ./2;"
   ]
  },
  {
   "cell_type": "code",
   "execution_count": 243,
   "metadata": {},
   "outputs": [
    {
     "data": {
      "text/plain": [
       "6.996659047674343"
      ]
     },
     "execution_count": 243,
     "metadata": {},
     "output_type": "execute_result"
    }
   ],
   "source": [
    "width, n, oversamp = 4, 128, 1.25\n",
    "ndim = ndims(img)\n",
    "β = π * √(((width / oversamp) * (oversamp - 0.5))^2 - 0.8)"
   ]
  },
  {
   "cell_type": "markdown",
   "metadata": {},
   "source": [
    "Apodization implementations are identical:"
   ]
  },
  {
   "cell_type": "code",
   "execution_count": 244,
   "metadata": {},
   "outputs": [
    {
     "name": "stdout",
     "output_type": "stream",
     "text": [
      "absolute error: 0.0\n"
     ]
    }
   ],
   "source": [
    "signal = copy(img)\n",
    "output_j = _apodize!(signal, ndim, oversamp, width, β)\n",
    "output_py = py\"_apodize\"(signal, ndim, oversamp, width, β)\n",
    "print(\"absolute error: \", norm(output_j - output_py, Inf), \"\\n\")"
   ]
  },
  {
   "cell_type": "markdown",
   "metadata": {},
   "source": [
    "But there is a significant difference between FFTW and numpy's FFT:"
   ]
  },
  {
   "cell_type": "code",
   "execution_count": 245,
   "metadata": {},
   "outputs": [
    {
     "name": "stdout",
     "output_type": "stream",
     "text": [
      "absolute error: 7.275957614183426e-12\n",
      "relative error: 8.707166080035383e-14"
     ]
    }
   ],
   "source": [
    "output_j = centering_fft!(convert.(Complex, img), (1,2,3))\n",
    "output_py = py\"sp.fft($img, axes=(1,2,3), norm=None)\"\n",
    "print(\"absolute error: \", norm(output_j - output_py, Inf), \"\\n\",\n",
    "    \"relative error: \", norm((output_j - output_py) ./ output_py, Inf))"
   ]
  },
  {
   "cell_type": "markdown",
   "metadata": {},
   "source": [
    "Also, there is some (but magnitudes smaller) difference between Julia's and numpy's Bessel function:"
   ]
  },
  {
   "cell_type": "code",
   "execution_count": 246,
   "metadata": {},
   "outputs": [
    {
     "name": "stdout",
     "output_type": "stream",
     "text": [
      "absolute error: 1.4210854715202004e-14\n",
      "relative error: 4.753447469672048e-16"
     ]
    }
   ],
   "source": [
    "kernel_py = py\"_get_kaiser_bessel_kernel\"(n, width, β)\n",
    "x = range(0, stop=n-1, step=1) ./ n\n",
    "kernel_j = window_kaiser_bessel.(x, width, β)\n",
    "print(\"absolute error: \", norm(kernel_j - kernel_py, Inf), \"\\n\",\n",
    "    \"relative error: \", norm((kernel_j - kernel_py) ./ kernel_py, Inf))"
   ]
  },
  {
   "cell_type": "markdown",
   "metadata": {},
   "source": [
    "On the other hand, the interpolation function also appears to be identical:"
   ]
  },
  {
   "cell_type": "code",
   "execution_count": 247,
   "metadata": {},
   "outputs": [
    {
     "name": "stdout",
     "output_type": "stream",
     "text": [
      "absolute error: 0.0"
     ]
    }
   ],
   "source": [
    "output_j = interpolate(img, width, kernel_j, coord);\n",
    "output_py = interp.interpolate(img, width, kernel_j, coord);\n",
    "print(\"absolute error: \", norm((output_j - output_py) ./ output_py, Inf))"
   ]
  },
  {
   "cell_type": "markdown",
   "metadata": {},
   "source": [
    "Altogether:"
   ]
  },
  {
   "cell_type": "code",
   "execution_count": 248,
   "metadata": {},
   "outputs": [
    {
     "name": "stdout",
     "output_type": "stream",
     "text": [
      "absolute error: 6.793258640404412e-15\n",
      "relative error: 3.986266999957607e-14"
     ]
    }
   ],
   "source": [
    "ksp_j = nufft(img, coord)\n",
    "ksp_py = py\"nufft\"(img, coord)\n",
    "print(\"absolute error: \", norm(ksp_j - ksp_py, Inf), \"\\n\",\n",
    "    \"relative error: \", norm((ksp_j - ksp_py) ./ ksp_py, Inf))"
   ]
  },
  {
   "cell_type": "code",
   "execution_count": 249,
   "metadata": {},
   "outputs": [
    {
     "name": "stdout",
     "output_type": "stream",
     "text": [
      "absolute error: 6.859422151143303e-16\n",
      "relative error: 5.611038030124373e-13"
     ]
    }
   ],
   "source": [
    "output_j = nufft_adjoint(ksp_j, coord)\n",
    "output_py = sp.nufft_adjoint(ksp_j, coord)\n",
    "print(\"absolute error: \", norm(output_j - output_py, Inf), \"\\n\",\n",
    "    \"relative error: \", norm((output_j - output_py) ./ output_py, Inf))"
   ]
  },
  {
   "cell_type": "markdown",
   "metadata": {},
   "source": [
    "### Compare running time and output in multiple cases"
   ]
  },
  {
   "cell_type": "code",
   "execution_count": 211,
   "metadata": {},
   "outputs": [],
   "source": [
    "py\"\"\"\n",
    "import timeit\n",
    "from math import log10\n",
    "from statistics import median, mean\n",
    "\n",
    "def benchmark(cmd_str, setup_str=''):\n",
    "    t = timeit.Timer(cmd_str, setup=setup_str, globals=globals())\n",
    "    approx = t.timeit(number=1)\n",
    "    number = 1\n",
    "    if approx > 60:\n",
    "        measurements = [approx]\n",
    "    elif approx > 30:\n",
    "        measurements = [approx] + t.repeat(repeat=3, number=1)\n",
    "    else:\n",
    "        how_many = 30 / approx\n",
    "        number = int(max(how_many // 10**(max(3,log10(how_many)-3)), 1))\n",
    "        repeat = int(ceil(how_many / number))\n",
    "        measurements = list(map(lambda x: x / number, t.repeat(repeat=repeat, number=number)))\n",
    "    \n",
    "    def time_format(sec):\n",
    "        return f\"{sec:.3f} s\" if sec > 1 else f\"{sec*1000:.3f} ms\"\n",
    "\n",
    "    return f'''\n",
    "Python benchmark:\n",
    "  --------------\n",
    "  minimum time:     {time_format(min(measurements))}\n",
    "  median time:      {time_format(median(measurements))}\n",
    "  mean time:        {time_format(mean(measurements))}\n",
    "  maximum time:     {time_format(max(measurements))}\n",
    "  --------------\n",
    "  samples:          {len(measurements)}\n",
    "  evals/sample:     {number}\n",
    "    '''\n",
    "\"\"\""
   ]
  },
  {
   "cell_type": "markdown",
   "metadata": {},
   "source": [
    "#### Small sized 2D problem"
   ]
  },
  {
   "cell_type": "code",
   "execution_count": 250,
   "metadata": {},
   "outputs": [],
   "source": [
    "M, shape = 1024, (16, 16)\n",
    "img = rand(Float64, shape)\n",
    "coord = rand(Float64, M, 2) .* collect(shape)' .- collect(shape)' ./2\n",
    "py\"\"\"\n",
    "img = $img\n",
    "coord = $coord\n",
    "\"\"\""
   ]
  },
  {
   "cell_type": "code",
   "execution_count": 251,
   "metadata": {},
   "outputs": [
    {
     "name": "stdout",
     "output_type": "stream",
     "text": [
      "absolute error: 3.612092524874097e-15\n",
      "relative error: 2.51831417063076e-14"
     ]
    }
   ],
   "source": [
    "ksp_j = nufft(img, coord)\n",
    "ksp_py = sp.nufft(img, coord)\n",
    "print(\"absolute error: \", norm(ksp_j - ksp_py, Inf), \"\\n\",\n",
    "    \"relative error: \", norm((ksp_j - ksp_py) ./ ksp_py, Inf))"
   ]
  },
  {
   "cell_type": "code",
   "execution_count": 252,
   "metadata": {},
   "outputs": [
    {
     "name": "stdout",
     "output_type": "stream",
     "text": [
      "absolute error: 4.9164205652118054e-15\n",
      "relative error: 2.6977978159394108e-14"
     ]
    }
   ],
   "source": [
    "output_j = nufft_adjoint(ksp_j, coord)\n",
    "output_py = sp.nufft_adjoint(ksp_j, coord)\n",
    "print(\"absolute error: \", norm(output_j - output_py, Inf), \"\\n\",\n",
    "    \"relative error: \", norm((output_j - output_py) ./ output_py, Inf))"
   ]
  },
  {
   "cell_type": "code",
   "execution_count": 120,
   "metadata": {},
   "outputs": [
    {
     "name": "stdout",
     "output_type": "stream",
     "text": [
      "\n",
      "Python benchmark:\n",
      "  --------------\n",
      "  minimum time:     1.019 ms\n",
      "  median time:      1.022 ms\n",
      "  mean time:        1.026 ms\n",
      "  maximum time:     1.833 ms\n",
      "  --------------\n",
      "  samples:          1001\n",
      "  evals/sample:     19\n",
      "    "
     ]
    }
   ],
   "source": [
    "print(py\"benchmark('sp.nufft(img, coord)')\")"
   ]
  },
  {
   "cell_type": "code",
   "execution_count": 113,
   "metadata": {},
   "outputs": [
    {
     "data": {
      "text/plain": [
       "BenchmarkTools.Trial: \n",
       "  memory estimate:  94.89 KiB\n",
       "  allocs estimate:  419\n",
       "  --------------\n",
       "  minimum time:     491.981 μs (0.00% GC)\n",
       "  median time:      512.722 μs (0.00% GC)\n",
       "  mean time:        537.037 μs (2.06% GC)\n",
       "  maximum time:     7.040 ms (76.90% GC)\n",
       "  --------------\n",
       "  samples:          9173\n",
       "  evals/sample:     1"
      ]
     },
     "execution_count": 113,
     "metadata": {},
     "output_type": "execute_result"
    }
   ],
   "source": [
    "@benchmark nufft(img, coord)"
   ]
  },
  {
   "cell_type": "code",
   "execution_count": 111,
   "metadata": {},
   "outputs": [
    {
     "name": "stdout",
     "output_type": "stream",
     "text": [
      "\n",
      "Python benchmark:\n",
      "  --------------\n",
      "  minimum time:     1.154 ms\n",
      "  median time:      1.168 ms\n",
      "  mean time:        1.170 ms\n",
      "  maximum time:     1.508 ms\n",
      "  --------------\n",
      "  samples:          1080\n",
      "  evals/sample:     5\n",
      "    "
     ]
    }
   ],
   "source": [
    "py\"\"\"\n",
    "ksp = sp.nufft(img, coord)\n",
    "\"\"\"\n",
    "print(py\"benchmark('sp.nufft_adjoint(ksp, coord)')\")"
   ]
  },
  {
   "cell_type": "code",
   "execution_count": 253,
   "metadata": {},
   "outputs": [
    {
     "data": {
      "text/plain": [
       "BenchmarkTools.Trial: \n",
       "  memory estimate:  69.36 KiB\n",
       "  allocs estimate:  1275\n",
       "  --------------\n",
       "  minimum time:     838.099 μs (0.00% GC)\n",
       "  median time:      875.301 μs (0.00% GC)\n",
       "  mean time:        891.544 μs (0.86% GC)\n",
       "  maximum time:     13.805 ms (65.58% GC)\n",
       "  --------------\n",
       "  samples:          5570\n",
       "  evals/sample:     1"
      ]
     },
     "execution_count": 253,
     "metadata": {},
     "output_type": "execute_result"
    }
   ],
   "source": [
    "ksp = nufft(img, coord)\n",
    "@benchmark nufft_adjoint(ksp, coord)"
   ]
  },
  {
   "cell_type": "markdown",
   "metadata": {},
   "source": [
    "#### Moderate sized 3D problem with batch"
   ]
  },
  {
   "cell_type": "code",
   "execution_count": 254,
   "metadata": {},
   "outputs": [],
   "source": [
    "M, batch, shape = 16384, 12, (128, 128, 128)\n",
    "img = rand(Float64, (batch, shape...))\n",
    "coord = rand(Float64, M, 3) .* collect(shape)' .- collect(shape)' ./2\n",
    "py\"\"\"\n",
    "img = $img\n",
    "coord = $coord\n",
    "\"\"\""
   ]
  },
  {
   "cell_type": "code",
   "execution_count": 255,
   "metadata": {},
   "outputs": [
    {
     "name": "stdout",
     "output_type": "stream",
     "text": [
      "absolute error: 2.7056661287843684e-14\n",
      "relative error: 1.3199294899990275e-12"
     ]
    }
   ],
   "source": [
    "ksp_j = nufft(img, coord)\n",
    "ksp_py = sp.nufft(img, coord)\n",
    "print(\"absolute error: \", norm(ksp_j - ksp_py, Inf), \"\\n\",\n",
    "    \"relative error: \", norm((ksp_j - ksp_py) ./ ksp_py, Inf))"
   ]
  },
  {
   "cell_type": "code",
   "execution_count": 256,
   "metadata": {},
   "outputs": [
    {
     "name": "stdout",
     "output_type": "stream",
     "text": [
      "absolute error: 1.1995471724637809e-15\n",
      "relative error: 7.427065570392663e-12"
     ]
    }
   ],
   "source": [
    "output_j = nufft_adjoint(ksp_j, coord)\n",
    "output_py = sp.nufft_adjoint(ksp_j, coord)\n",
    "print(\"absolute error: \", norm(output_j - output_py, Inf), \"\\n\",\n",
    "    \"relative error: \", norm((output_j - output_py) ./ output_py, Inf))"
   ]
  },
  {
   "cell_type": "code",
   "execution_count": 124,
   "metadata": {},
   "outputs": [
    {
     "name": "stdout",
     "output_type": "stream",
     "text": [
      "\n",
      "Python benchmark:\n",
      "  --------------\n",
      "  minimum time:     4.976 s\n",
      "  median time:      5.911 s\n",
      "  mean time:        5.692 s\n",
      "  maximum time:     5.979 s\n",
      "  --------------\n",
      "  samples:          6\n",
      "  evals/sample:     1\n",
      "    "
     ]
    }
   ],
   "source": [
    "print(py\"benchmark('sp.nufft(img, coord)')\")"
   ]
  },
  {
   "cell_type": "code",
   "execution_count": 134,
   "metadata": {},
   "outputs": [],
   "source": [
    "FFTW.set_num_threads(40)"
   ]
  },
  {
   "cell_type": "code",
   "execution_count": 130,
   "metadata": {},
   "outputs": [
    {
     "data": {
      "text/plain": [
       "BenchmarkTools.Trial: \n",
       "  memory estimate:  2.59 GiB\n",
       "  allocs estimate:  476\n",
       "  --------------\n",
       "  minimum time:     1.758 s (0.38% GC)\n",
       "  median time:      2.013 s (11.74% GC)\n",
       "  mean time:        1.999 s (8.49% GC)\n",
       "  maximum time:     2.226 s (11.96% GC)\n",
       "  --------------\n",
       "  samples:          3\n",
       "  evals/sample:     1"
      ]
     },
     "execution_count": 130,
     "metadata": {},
     "output_type": "execute_result"
    }
   ],
   "source": [
    "@benchmark nufft(img, coord)"
   ]
  },
  {
   "cell_type": "code",
   "execution_count": 126,
   "metadata": {},
   "outputs": [
    {
     "name": "stdout",
     "output_type": "stream",
     "text": [
      "\n",
      "Python benchmark:\n",
      "  --------------\n",
      "  minimum time:     7.875 s\n",
      "  median time:      7.880 s\n",
      "  mean time:        7.881 s\n",
      "  maximum time:     7.888 s\n",
      "  --------------\n",
      "  samples:          4\n",
      "  evals/sample:     1\n",
      "    "
     ]
    }
   ],
   "source": [
    "py\"\"\"\n",
    "ksp = sp.nufft(img, coord)\n",
    "\"\"\"\n",
    "print(py\"benchmark('sp.nufft_adjoint(ksp, coord)')\")"
   ]
  },
  {
   "cell_type": "code",
   "execution_count": 266,
   "metadata": {},
   "outputs": [
    {
     "data": {
      "text/plain": [
       "BenchmarkTools.Trial: \n",
       "  memory estimate:  2.89 GiB\n",
       "  allocs estimate:  16762\n",
       "  --------------\n",
       "  minimum time:     3.263 s (3.36% GC)\n",
       "  median time:      3.432 s (8.57% GC)\n",
       "  mean time:        3.432 s (8.57% GC)\n",
       "  maximum time:     3.602 s (13.29% GC)\n",
       "  --------------\n",
       "  samples:          2\n",
       "  evals/sample:     1"
      ]
     },
     "execution_count": 266,
     "metadata": {},
     "output_type": "execute_result"
    }
   ],
   "source": [
    "ksp = nufft(img, coord)\n",
    "@benchmark nufft_adjoint(ksp, coord)"
   ]
  },
  {
   "cell_type": "markdown",
   "metadata": {},
   "source": [
    "#### Large 3D problem with batch"
   ]
  },
  {
   "cell_type": "code",
   "execution_count": 268,
   "metadata": {},
   "outputs": [],
   "source": [
    "M, batch, shape = 4186100, 12, (34, 30, 68)\n",
    "img = rand(Float64, (batch, shape...))\n",
    "coord = rand(Float64, M, 3) .* collect(shape)' .- collect(shape)' ./2\n",
    "py\"\"\"\n",
    "img = $img\n",
    "coord = $coord\n",
    "\"\"\""
   ]
  },
  {
   "cell_type": "code",
   "execution_count": 270,
   "metadata": {},
   "outputs": [
    {
     "name": "stdout",
     "output_type": "stream",
     "text": [
      "absolute error: 1.1370851969750854e-13\n",
      "relative error: 2.1542510252213323e-11"
     ]
    }
   ],
   "source": [
    "ksp_j = nufft(img, coord)\n",
    "ksp_py = sp.nufft(img, coord)\n",
    "print(\"absolute error: \", norm(ksp_j - ksp_py, Inf), \"\\n\",\n",
    "    \"relative error: \", norm((ksp_j - ksp_py) ./ ksp_py, Inf))"
   ]
  },
  {
   "cell_type": "code",
   "execution_count": 271,
   "metadata": {},
   "outputs": [
    {
     "name": "stdout",
     "output_type": "stream",
     "text": [
      "absolute error: 2.5760726640001485e-12\n",
      "relative error: 3.5198830919164485e-12"
     ]
    }
   ],
   "source": [
    "output_j = nufft_adjoint(ksp_j, coord)\n",
    "output_py = sp.nufft_adjoint(ksp_j, coord)\n",
    "print(\"absolute error: \", norm(output_j - output_py, Inf), \"\\n\",\n",
    "    \"relative error: \", norm((output_j - output_py) ./ output_py, Inf))"
   ]
  },
  {
   "cell_type": "code",
   "execution_count": 135,
   "metadata": {},
   "outputs": [
    {
     "name": "stdout",
     "output_type": "stream",
     "text": [
      "\n",
      "Python benchmark:\n",
      "  --------------\n",
      "  minimum time:     18.943 s\n",
      "  median time:      19.020 s\n",
      "  mean time:        19.020 s\n",
      "  maximum time:     19.096 s\n",
      "  --------------\n",
      "  samples:          2\n",
      "  evals/sample:     1\n",
      "    "
     ]
    }
   ],
   "source": [
    "print(py\"benchmark('sp.nufft(img, coord)')\")"
   ]
  },
  {
   "cell_type": "code",
   "execution_count": 136,
   "metadata": {},
   "outputs": [
    {
     "data": {
      "text/plain": [
       "BenchmarkTools.Trial: \n",
       "  memory estimate:  951.31 MiB\n",
       "  allocs estimate:  472\n",
       "  --------------\n",
       "  minimum time:     3.060 s (0.00% GC)\n",
       "  median time:      3.096 s (0.04% GC)\n",
       "  mean time:        3.096 s (0.04% GC)\n",
       "  maximum time:     3.132 s (0.08% GC)\n",
       "  --------------\n",
       "  samples:          2\n",
       "  evals/sample:     1"
      ]
     },
     "execution_count": 136,
     "metadata": {},
     "output_type": "execute_result"
    }
   ],
   "source": [
    "@benchmark nufft(img, coord)"
   ]
  },
  {
   "cell_type": "code",
   "execution_count": 132,
   "metadata": {},
   "outputs": [
    {
     "name": "stdout",
     "output_type": "stream",
     "text": [
      "\n",
      "Python benchmark:\n",
      "  --------------\n",
      "  minimum time:     15.532 s\n",
      "  median time:      15.559 s\n",
      "  mean time:        15.559 s\n",
      "  maximum time:     15.586 s\n",
      "  --------------\n",
      "  samples:          2\n",
      "  evals/sample:     1\n",
      "    "
     ]
    }
   ],
   "source": [
    "py\"\"\"\n",
    "ksp = sp.nufft(img, coord)\n",
    "\"\"\"\n",
    "print(py\"benchmark('sp.nufft_adjoint(ksp, coord)')\")"
   ]
  },
  {
   "cell_type": "code",
   "execution_count": 272,
   "metadata": {},
   "outputs": [
    {
     "data": {
      "text/plain": [
       "BenchmarkTools.Trial: \n",
       "  memory estimate:  1.10 GiB\n",
       "  allocs estimate:  764\n",
       "  --------------\n",
       "  minimum time:     4.598 s (22.56% GC)\n",
       "  median time:      4.718 s (23.15% GC)\n",
       "  mean time:        4.718 s (23.15% GC)\n",
       "  maximum time:     4.839 s (23.71% GC)\n",
       "  --------------\n",
       "  samples:          2\n",
       "  evals/sample:     1"
      ]
     },
     "execution_count": 272,
     "metadata": {},
     "output_type": "execute_result"
    }
   ],
   "source": [
    "ksp = nufft(img, coord)\n",
    "@benchmark nufft_adjoint(ksp, coord)"
   ]
  },
  {
   "cell_type": "markdown",
   "metadata": {},
   "source": [
    "## Unused code"
   ]
  },
  {
   "cell_type": "code",
   "execution_count": 122,
   "metadata": {},
   "outputs": [
    {
     "name": "stdout",
     "output_type": "stream",
     "text": [
      "  0.000013 seconds (7 allocations: 464 bytes)\n",
      "  0.002394 seconds (2 allocations: 15.259 MiB)\n",
      "  0.003585 seconds (24 allocations: 3.563 KiB)\n",
      "  0.004763 seconds (5 allocations: 15.259 MiB)\n",
      "  0.000002 seconds (2 allocations: 112 bytes)\n",
      "  0.065851 seconds (90 allocations: 59.609 MiB)\n",
      "  0.000118 seconds (1 allocation: 1.141 KiB)\n",
      "  0.002683 seconds (52 allocations: 18.313 KiB)\n"
     ]
    }
   ],
   "source": [
    "nufft(img, coord);"
   ]
  },
  {
   "cell_type": "code",
   "execution_count": 15,
   "metadata": {},
   "outputs": [
    {
     "data": {
      "text/plain": [
       "_spline_kernel (generic function with 1 method)"
      ]
     },
     "execution_count": 15,
     "metadata": {},
     "output_type": "execute_result"
    }
   ],
   "source": [
    "function _spline_kernel(x::T, order::T)::T where {T<:Real}\n",
    "    abs(x) > 1 && return zero(x)\n",
    "\n",
    "    if order == 0\n",
    "        return one(x)\n",
    "    elseif order == 1\n",
    "        return 1 - abs(x)\n",
    "    elseif order == 2\n",
    "        if abs(x) > 1 / 3\n",
    "            return 9 / 8 * (1 - abs(x))^2\n",
    "        else\n",
    "            return 3 / 4 * (1 - 3 * x^2)\n",
    "        end\n",
    "    else\n",
    "        @assert \"Only {0,1,2}-order spline kernel is supported\"\n",
    "    end\n",
    "end"
   ]
  },
  {
   "cell_type": "code",
   "execution_count": 16,
   "metadata": {},
   "outputs": [
    {
     "data": {
      "text/plain": [
       "_kaiser_bessel_kernel (generic function with 1 method)"
      ]
     },
     "execution_count": 16,
     "metadata": {},
     "output_type": "execute_result"
    }
   ],
   "source": [
    "function _kaiser_bessel_kernel(x::T, β::T)::T where {T<:Real}\n",
    "    abs(x) > 1 && return zero(x)\n",
    "\n",
    "    x = β * √(1 - x^2)\n",
    "    t = x / 3.75\n",
    "    if x < 3.75\n",
    "        return 1 + 3.5156229 * t^2 + 3.0899424 * t^4 +\n",
    "            1.2067492 * t^6 + 0.2659732 * t^8 +\n",
    "            0.0360768 * t^10 + 0.0045813 * t^12\n",
    "    else\n",
    "        return x^-0.5 * exp(x) * (\n",
    "            0.39894228 + 0.01328592 * t^-1 +\n",
    "            0.00225319 * t^-2 - 0.00157565 * t^-3 +\n",
    "            0.00916281 * t^-4 - 0.02057706 * t^-5 +\n",
    "            0.02635537 * t^-6 - 0.01647633 * t^-7 +\n",
    "            0.00392377 * t^-8)\n",
    "    end\n",
    "end"
   ]
  },
  {
   "cell_type": "code",
   "execution_count": 85,
   "metadata": {},
   "outputs": [
    {
     "name": "stdout",
     "output_type": "stream",
     "text": [
      "  7.342226 seconds (190 allocations: 358.736 MiB, 0.06% gc time)\n"
     ]
    }
   ],
   "source": [
    "@time nufft(img, coord);"
   ]
  },
  {
   "cell_type": "code",
   "execution_count": 26,
   "metadata": {},
   "outputs": [
    {
     "name": "stdout",
     "output_type": "stream",
     "text": [
      "search: \u001b[0m\u001b[1mn\u001b[22m\u001b[0m\u001b[1mu\u001b[22m\u001b[0m\u001b[1mf\u001b[22m\u001b[0m\u001b[1mf\u001b[22m\u001b[0m\u001b[1mt\u001b[22m\n",
      "\n"
     ]
    },
    {
     "data": {
      "text/latex": [
       "Non-uniform Fast Fourier Transform.\n",
       "\n",
       "\\textbf{Arguments}:\n",
       "\n",
       "\\begin{itemize}\n",
       "\\item \\texttt{input (ArrayType\\{T\\} or ArrayType\\{Complex\\{T\\}\\})}: input signal domain array of shape   $(n_k, \\ldots, n_{ndim + 1}, n_{ndim}, \\ldots, n_2, n_1)$,   where $ndim$ is specified by \\texttt{size(coord)[end]}. The nufft   is applied on the last $ndim$ axes, and looped over   the remaining axes. \\texttt{ArrayType} can be any \\texttt{AbstractArray}.\n",
       "\n",
       "\n",
       "\\item \\texttt{coord (ArrayType\\{T\\})}: Fourier domain coordinate array of shape $(m_l, \\ldots, m_1, ndim)$.   $ndim$ determines the number of dimensions to apply the nufft.   \\texttt{coord[..., i]} should be scaled to have its range $[-n_i \\div 2, n_i \\div 2]$.\n",
       "\n",
       "\n",
       "\\item \\texttt{oversamp (Float32)}: oversampling factor.\n",
       "\n",
       "\n",
       "\\item \\texttt{width (Int64)}: interpolation kernel full-width in terms of   oversampled grid.\n",
       "\n",
       "\\end{itemize}\n",
       "\\textbf{Returns}:\n",
       "\n",
       "\\begin{itemize}\n",
       "\\item \\texttt{ArrayType\\{Complex\\{T\\}\\}}: Fourier domain data of shape   $(n_k, \\ldots, n_{ndim + 1}, m_l, \\ldots, m_1)$.\n",
       "\n",
       "\\end{itemize}\n",
       "\\textbf{References}:\n",
       "\n",
       "\\begin{itemize}\n",
       "\\item Fessler, J. A., \\& Sutton, B. P. (2003). \"Nonuniform fast Fourier transforms using min-max interpolation\", \\emph{IEEE Transactions on Signal Processing}, 51(2), 560-574.\n",
       "\n",
       "\n",
       "\\item Beatty, P. J., Nishimura, D. G., \\& Pauly, J. M. (2005). \"Rapid gridding reconstruction with a minimal oversampling ratio,\" \\emph{IEEE transactions on medical imaging}, 24(6), 799-808.\n",
       "\n",
       "\\end{itemize}\n"
      ],
      "text/markdown": [
       "Non-uniform Fast Fourier Transform.\n",
       "\n",
       "**Arguments**:\n",
       "\n",
       "  * `input (ArrayType{T} or ArrayType{Complex{T}})`: input signal domain array of shape   $(n_k, \\ldots, n_{ndim + 1}, n_{ndim}, \\ldots, n_2, n_1)$,   where $ndim$ is specified by `size(coord)[end]`. The nufft   is applied on the last $ndim$ axes, and looped over   the remaining axes. `ArrayType` can be any `AbstractArray`.\n",
       "  * `coord (ArrayType{T})`: Fourier domain coordinate array of shape $(m_l, \\ldots, m_1, ndim)$.   $ndim$ determines the number of dimensions to apply the nufft.   `coord[..., i]` should be scaled to have its range $[-n_i \\div 2, n_i \\div 2]$.\n",
       "  * `oversamp (Float32)`: oversampling factor.\n",
       "  * `width (Int64)`: interpolation kernel full-width in terms of   oversampled grid.\n",
       "\n",
       "**Returns**:\n",
       "\n",
       "  * `ArrayType{Complex{T}}`: Fourier domain data of shape   $(n_k, \\ldots, n_{ndim + 1}, m_l, \\ldots, m_1)$.\n",
       "\n",
       "**References**:\n",
       "\n",
       "  * Fessler, J. A., & Sutton, B. P. (2003). \"Nonuniform fast Fourier transforms using min-max interpolation\", *IEEE Transactions on Signal Processing*, 51(2), 560-574.\n",
       "  * Beatty, P. J., Nishimura, D. G., & Pauly, J. M. (2005). \"Rapid gridding reconstruction with a minimal oversampling ratio,\" *IEEE transactions on medical imaging*, 24(6), 799-808.\n"
      ],
      "text/plain": [
       "  Non-uniform Fast Fourier Transform.\n",
       "\n",
       "  \u001b[1mArguments\u001b[22m:\n",
       "\n",
       "    •    \u001b[36minput (ArrayType{T} or ArrayType{Complex{T}})\u001b[39m: input signal domain\n",
       "        array of shape \u001b[35m(n_k, \\ldots, n_{ndim + 1}, n_{ndim}, \\ldots, n_2,\n",
       "        n_1)\u001b[39m, where \u001b[35mndim\u001b[39m is specified by \u001b[36msize(coord)[end]\u001b[39m. The nufft is\n",
       "        applied on the last \u001b[35mndim\u001b[39m axes, and looped over the remaining axes.\n",
       "        \u001b[36mArrayType\u001b[39m can be any \u001b[36mAbstractArray\u001b[39m.\n",
       "\n",
       "    •    \u001b[36mcoord (ArrayType{T})\u001b[39m: Fourier domain coordinate array of shape\n",
       "        \u001b[35m(m_l, \\ldots, m_1, ndim)\u001b[39m. \u001b[35mndim\u001b[39m determines the number of dimensions\n",
       "        to apply the nufft. \u001b[36mcoord[..., i]\u001b[39m should be scaled to have its\n",
       "        range \u001b[35m[-n_i \\div 2, n_i \\div 2]\u001b[39m.\n",
       "\n",
       "    •    \u001b[36moversamp (Float32)\u001b[39m: oversampling factor.\n",
       "\n",
       "    •    \u001b[36mwidth (Int64)\u001b[39m: interpolation kernel full-width in terms of\n",
       "        oversampled grid.\n",
       "\n",
       "  \u001b[1mReturns\u001b[22m:\n",
       "\n",
       "    •    \u001b[36mArrayType{Complex{T}}\u001b[39m: Fourier domain data of shape \u001b[35m(n_k, \\ldots,\n",
       "        n_{ndim + 1}, m_l, \\ldots, m_1)\u001b[39m.\n",
       "\n",
       "  \u001b[1mReferences\u001b[22m:\n",
       "\n",
       "    •    Fessler, J. A., & Sutton, B. P. (2003). \"Nonuniform fast Fourier\n",
       "        transforms using min-max interpolation\", \u001b[4mIEEE Transactions on\n",
       "        Signal Processing\u001b[24m, 51(2), 560-574.\n",
       "\n",
       "    •    Beatty, P. J., Nishimura, D. G., & Pauly, J. M. (2005). \"Rapid\n",
       "        gridding reconstruction with a minimal oversampling ratio,\" \u001b[4mIEEE\n",
       "        transactions on medical imaging\u001b[24m, 24(6), 799-808."
      ]
     },
     "execution_count": 26,
     "metadata": {},
     "output_type": "execute_result"
    }
   ],
   "source": [
    "?nufft"
   ]
  },
  {
   "cell_type": "code",
   "execution_count": null,
   "metadata": {},
   "outputs": [],
   "source": []
  },
  {
   "cell_type": "code",
   "execution_count": null,
   "metadata": {},
   "outputs": [],
   "source": []
  },
  {
   "cell_type": "code",
   "execution_count": null,
   "metadata": {},
   "outputs": [],
   "source": []
  }
 ],
 "metadata": {
  "kernelspec": {
   "display_name": "Julia 1.3.0",
   "language": "julia",
   "name": "julia-1.3"
  },
  "language_info": {
   "file_extension": ".jl",
   "mimetype": "application/julia",
   "name": "julia",
   "version": "1.3.0"
  }
 },
 "nbformat": 4,
 "nbformat_minor": 4
}
