{
 "cells": [
  {
   "cell_type": "code",
   "execution_count": 1,
   "metadata": {},
   "outputs": [
    {
     "name": "stderr",
     "output_type": "stream",
     "text": [
      "┌ Info: Precompiling Documenter [e30172f5-a6a5-5a46-863b-614d45cd2de4]\n",
      "└ @ Base loading.jl:1273\n"
     ]
    }
   ],
   "source": [
    "using Documenter, EllipsisNotation, FFTW, PaddedViews, SpecialFunctions, Base.Cartesian, Base.Threads"
   ]
  },
  {
   "cell_type": "code",
   "execution_count": 49,
   "metadata": {},
   "outputs": [
    {
     "name": "stderr",
     "output_type": "stream",
     "text": [
      "WARNING: replacing module SigPy.\n"
     ]
    },
    {
     "data": {
      "text/plain": [
       "Main.SigPy"
      ]
     },
     "execution_count": 49,
     "metadata": {},
     "output_type": "execute_result"
    }
   ],
   "source": [
    "include(\"SigPy.jl\")"
   ]
  },
  {
   "cell_type": "code",
   "execution_count": 3,
   "metadata": {},
   "outputs": [],
   "source": [
    "using LinearAlgebra, MacroTools, NFFT, BenchmarkTools\n",
    "using PyCall, Libdl\n",
    "Libdl.dlopen(ENV[\"HOME\"]*\"/.local/lib/python3.6/site-packages/llvmlite/binding/libllvmlite.so\",\n",
    "    Libdl.RTLD_DEEPBIND);\n",
    "py\"\"\"\n",
    "from math import ceil\n",
    "import numpy as np\n",
    "import sigpy as sp\n",
    "from sigpy import util, interp\n",
    "\"\"\""
   ]
  },
  {
   "cell_type": "markdown",
   "metadata": {},
   "source": [
    "## Compare with reference implementation"
   ]
  },
  {
   "cell_type": "markdown",
   "metadata": {},
   "source": [
    "### Comparing output"
   ]
  },
  {
   "cell_type": "code",
   "execution_count": 4,
   "metadata": {},
   "outputs": [],
   "source": [
    "sp = pyimport(\"sigpy\")\n",
    "interp = pyimport(\"sigpy.interp\")\n",
    "util = pyimport(\"sigpy.util\");"
   ]
  },
  {
   "cell_type": "code",
   "execution_count": 5,
   "metadata": {},
   "outputs": [],
   "source": [
    "py\"\"\"\n",
    "def nufft(input, coord, oversamp=1.25, width=4.0, n=128):\n",
    "    ndim = coord.shape[-1]\n",
    "    beta = np.pi * (((width / oversamp) * (oversamp - 0.5))**2 - 0.8)**0.5\n",
    "    os_shape = _get_oversamp_shape(input.shape, ndim, oversamp)\n",
    "\n",
    "    output = input.copy()\n",
    "\n",
    "    # Apodize\n",
    "    _apodize(output, ndim, oversamp, width, beta)\n",
    "\n",
    "    # Zero-pad\n",
    "    output /= util.prod(input.shape[-ndim:])**0.5\n",
    "    output = util.resize(output, os_shape)\n",
    "\n",
    "    # FFT\n",
    "    output = sp.fft(output, axes=range(-ndim, 0), norm=None)\n",
    "\n",
    "    # Interpolate\n",
    "    coord = _scale_coord(coord, input.shape, oversamp)\n",
    "    kernel = _get_kaiser_bessel_kernel(n, width, beta)\n",
    "    output = interp.interpolate(output, width, kernel, coord)\n",
    "\n",
    "    return output\n",
    "\n",
    "def _get_kaiser_bessel_kernel(n, width, beta):\n",
    "    x = np.arange(n) / n\n",
    "    kernel = 1 / width * np.i0(beta * (1 - x**2)**0.5)\n",
    "    return kernel\n",
    "\n",
    "def _scale_coord(coord, shape, oversamp):\n",
    "    ndim = coord.shape[-1]\n",
    "    scale = [ceil(oversamp * i) / i for i in shape[-ndim:]]\n",
    "    shift = [ceil(oversamp * i) // 2 for i in shape[-ndim:]]\n",
    "\n",
    "    coord = scale * coord + shift\n",
    "\n",
    "    return coord\n",
    "\n",
    "def _get_oversamp_shape(shape, ndim, oversamp):\n",
    "    return list(shape)[:-ndim] + [ceil(oversamp * i) for i in shape[-ndim:]]\n",
    "\n",
    "def estimate_shape(coord):\n",
    "    ndim = coord.shape[-1]\n",
    "    return [int(coord[..., i].max() - coord[..., i].min()) for i in range(ndim)]\n",
    "\n",
    "def _apodize(input, ndim, oversamp, width, beta):\n",
    "\n",
    "    output = input\n",
    "    for a in range(-ndim, 0):\n",
    "        i = output.shape[a]\n",
    "        os_i = ceil(oversamp * i)\n",
    "        idx = np.arange(i)\n",
    "\n",
    "        # Calculate apodization\n",
    "        apod = (beta**2 - (np.pi * width * (idx - i // 2) / os_i)**2)**0.5\n",
    "        apod /= np.sinh(apod)\n",
    "        output *= apod.reshape([i] + [1] * (-a - 1))\n",
    "\n",
    "    return output\n",
    "\n",
    "def interpolate(input, width, kernel, coord):\n",
    "    ndim = coord.shape[-1]\n",
    "\n",
    "    batch_shape = input.shape[:-ndim]\n",
    "    batch_size = util.prod(batch_shape)\n",
    "\n",
    "    pts_shape = coord.shape[:-1]\n",
    "    npts = util.prod(pts_shape)\n",
    "\n",
    "    isreal = np.issubdtype(input.dtype, np.floating)\n",
    "\n",
    "    input = input.reshape([batch_size] + list(input.shape[-ndim:]))\n",
    "    coord = coord.reshape([npts, ndim])\n",
    "    output = np.zeros([batch_size, npts], dtype=input.dtype)\n",
    "\n",
    "    _interpolate3(output, input, width, kernel, coord)\n",
    "\n",
    "    return output.reshape(batch_shape + pts_shape)\n",
    "\n",
    "def _interpolate3(output, input, width, kernel, coord):\n",
    "    batch_size, nz, ny, nx = input.shape\n",
    "    npts = coord.shape[0]\n",
    "\n",
    "    for i in range(npts):\n",
    "\n",
    "        kx, ky, kz = coord[i, -1], coord[i, -2], coord[i, -3]\n",
    "\n",
    "        x0, y0, z0 = (np.ceil(kx - width / 2).astype(int),\n",
    "                      np.ceil(ky - width / 2).astype(int),\n",
    "                      np.ceil(kz - width / 2).astype(int))\n",
    "\n",
    "        x1, y1, z1 = (np.floor(kx + width / 2).astype(int),\n",
    "                      np.floor(ky + width / 2).astype(int),\n",
    "                      np.floor(kz + width / 2).astype(int))\n",
    "\n",
    "        for z in range(z0, z1 + 1):\n",
    "            wz = lin_interpolate(kernel, abs(z - kz) / (width / 2))\n",
    "\n",
    "            for y in range(y0, y1 + 1):\n",
    "                wy = wz * lin_interpolate(kernel, abs(y - ky) / (width / 2))\n",
    "\n",
    "                for x in range(x0, x1 + 1):\n",
    "                    w = wy * lin_interpolate(kernel, abs(x - kx) / (width / 2))\n",
    "\n",
    "                    for b in range(batch_size):\n",
    "                        output[b, i] += w * input[b, z % nz, y % ny, x % nx]\n",
    "\n",
    "    return output\n",
    "\n",
    "def lin_interpolate(kernel, x):\n",
    "    if x >= 1:\n",
    "        return 0.0\n",
    "    n = len(kernel)\n",
    "    idx = int(x * n)\n",
    "    frac = x * n - idx\n",
    "\n",
    "    left = kernel[idx]\n",
    "    if idx == n - 1:\n",
    "        right = 0.0\n",
    "    else:\n",
    "        right = kernel[idx + 1]\n",
    "    return (1.0 - frac) * left + frac * right\n",
    "\"\"\""
   ]
  },
  {
   "cell_type": "code",
   "execution_count": 295,
   "metadata": {},
   "outputs": [],
   "source": [
    "M, shape = 1000, (34, 30, 68)\n",
    "img = rand(Float64, shape)\n",
    "coord = rand(Float64, M, 3) .* collect(shape)' .- collect(shape)' ./2;"
   ]
  },
  {
   "cell_type": "code",
   "execution_count": 296,
   "metadata": {},
   "outputs": [
    {
     "data": {
      "text/plain": [
       "6.996659047674343"
      ]
     },
     "execution_count": 296,
     "metadata": {},
     "output_type": "execute_result"
    }
   ],
   "source": [
    "width, n, oversamp = 4, 128, 1.25\n",
    "ndim = ndims(img)\n",
    "β = π * √(((width / oversamp) * (oversamp - 0.5))^2 - 0.8)"
   ]
  },
  {
   "cell_type": "markdown",
   "metadata": {},
   "source": [
    "Apodization implementations are identical:"
   ]
  },
  {
   "cell_type": "code",
   "execution_count": 34,
   "metadata": {},
   "outputs": [
    {
     "name": "stdout",
     "output_type": "stream",
     "text": [
      "absolute error: 0.0\n"
     ]
    }
   ],
   "source": [
    "signal = copy(img)\n",
    "output_j = SigPy._apodize!(signal, ndim, oversamp, width, β)\n",
    "output_py = py\"_apodize\"(signal, ndim, oversamp, width, β)\n",
    "print(\"absolute error: \", norm(output_j - output_py, Inf), \"\\n\")"
   ]
  },
  {
   "cell_type": "markdown",
   "metadata": {},
   "source": [
    "But there is a significant difference between FFTW and numpy's FFT:"
   ]
  },
  {
   "cell_type": "code",
   "execution_count": 35,
   "metadata": {},
   "outputs": [
    {
     "name": "stdout",
     "output_type": "stream",
     "text": [
      "absolute error: 1.2448763988069971e-12\n",
      "relative error: 1.6832693194493325e-12"
     ]
    }
   ],
   "source": [
    "output_j = SigPy.centering_fft!(convert.(Complex, img), (1,2,3))\n",
    "output_py = py\"sp.fft($img, axes=(1,2,3), norm=None)\"\n",
    "print(\"absolute error: \", norm(output_j - output_py, Inf), \"\\n\",\n",
    "    \"relative error: \", norm((output_j - output_py) ./ output_py, Inf))"
   ]
  },
  {
   "cell_type": "markdown",
   "metadata": {},
   "source": [
    "Also, there is some (but magnitudes smaller) difference between Julia's and numpy's Bessel function:"
   ]
  },
  {
   "cell_type": "code",
   "execution_count": 36,
   "metadata": {},
   "outputs": [
    {
     "name": "stdout",
     "output_type": "stream",
     "text": [
      "absolute error: 1.4210854715202004e-14\n",
      "relative error: 4.753447469672048e-16"
     ]
    }
   ],
   "source": [
    "kernel_py = py\"_get_kaiser_bessel_kernel\"(n, width, β)\n",
    "x = range(0, stop=n-1, step=1) ./ n\n",
    "kernel_j = SigPy.window_kaiser_bessel.(x, width, β)\n",
    "print(\"absolute error: \", norm(kernel_j - kernel_py, Inf), \"\\n\",\n",
    "    \"relative error: \", norm((kernel_j - kernel_py) ./ kernel_py, Inf))"
   ]
  },
  {
   "cell_type": "markdown",
   "metadata": {},
   "source": [
    "On the other hand, the interpolation function also appears to be identical:"
   ]
  },
  {
   "cell_type": "code",
   "execution_count": 37,
   "metadata": {},
   "outputs": [
    {
     "name": "stdout",
     "output_type": "stream",
     "text": [
      "absolute error: 0.0"
     ]
    }
   ],
   "source": [
    "output_j = SigPy.interpolate(img, width, kernel_j, coord);\n",
    "output_py = interp.interpolate(img, width, kernel_j, coord);\n",
    "print(\"absolute error: \", norm((output_j - output_py) ./ output_py, Inf))"
   ]
  },
  {
   "cell_type": "markdown",
   "metadata": {},
   "source": [
    "Altogether:"
   ]
  },
  {
   "cell_type": "code",
   "execution_count": 297,
   "metadata": {},
   "outputs": [
    {
     "name": "stdout",
     "output_type": "stream",
     "text": [
      "absolute error: 3.7258694339903e-15\n",
      "relative error: 1.0397644736622794e-13"
     ]
    }
   ],
   "source": [
    "ksp_j = SigPy.nufft(coord, img)\n",
    "ksp_py = py\"nufft\"(img, coord)\n",
    "print(\"absolute error: \", norm(ksp_j - ksp_py, Inf), \"\\n\",\n",
    "    \"relative error: \", norm((ksp_j - ksp_py) ./ ksp_py, Inf))"
   ]
  },
  {
   "cell_type": "code",
   "execution_count": 298,
   "metadata": {},
   "outputs": [
    {
     "name": "stdout",
     "output_type": "stream",
     "text": [
      "absolute error: 3.7258694339903e-15\n",
      "relative error: 1.0397644736622794e-13"
     ]
    }
   ],
   "source": [
    "plan = SigPy.nufft_plan(coord, convert.(ComplexF64, img))\n",
    "ksp_j = plan * convert.(ComplexF64, img)\n",
    "ksp_py = py\"nufft\"(img, coord)\n",
    "print(\"absolute error: \", norm(ksp_j - ksp_py, Inf), \"\\n\",\n",
    "    \"relative error: \", norm((ksp_j - ksp_py) ./ ksp_py, Inf))"
   ]
  },
  {
   "cell_type": "code",
   "execution_count": 299,
   "metadata": {},
   "outputs": [
    {
     "name": "stdout",
     "output_type": "stream",
     "text": [
      "absolute error: 3.7258694339903e-15\n",
      "relative error: 1.0397644736622794e-13"
     ]
    }
   ],
   "source": [
    "plan = SigPy.nufft_plan(coord, size(img))\n",
    "ksp_j = plan * convert.(ComplexF64, img)\n",
    "ksp_py = py\"nufft\"(img, coord)\n",
    "print(\"absolute error: \", norm(ksp_j - ksp_py, Inf), \"\\n\",\n",
    "    \"relative error: \", norm((ksp_j - ksp_py) ./ ksp_py, Inf))"
   ]
  },
  {
   "cell_type": "code",
   "execution_count": 300,
   "metadata": {},
   "outputs": [
    {
     "name": "stdout",
     "output_type": "stream",
     "text": [
      "absolute error: 5.622217108246132e-16\n",
      "relative error: 1.914576449649916e-13"
     ]
    }
   ],
   "source": [
    "output_py = sp.nufft_adjoint(ksp_j, coord)\n",
    "plan = SigPy.nufft_plan(coord, output_py)\n",
    "output_j = plan' * ksp_j\n",
    "print(\"absolute error: \", norm(output_j - output_py, Inf), \"\\n\",\n",
    "    \"relative error: \", norm((output_j - output_py) ./ output_py, Inf))"
   ]
  },
  {
   "cell_type": "code",
   "execution_count": 301,
   "metadata": {},
   "outputs": [
    {
     "name": "stdout",
     "output_type": "stream",
     "text": [
      "absolute error: 5.622217108246132e-16\n",
      "relative error: 1.914576449649916e-13"
     ]
    }
   ],
   "source": [
    "output_py = sp.nufft_adjoint(ksp_j, coord)\n",
    "plan = SigPy.nufft_plan(coord)\n",
    "output_j = plan' * ksp_j\n",
    "print(\"absolute error: \", norm(output_j - output_py, Inf), \"\\n\",\n",
    "    \"relative error: \", norm((output_j - output_py) ./ output_py, Inf))"
   ]
  },
  {
   "cell_type": "code",
   "execution_count": 302,
   "metadata": {},
   "outputs": [
    {
     "name": "stdout",
     "output_type": "stream",
     "text": [
      "absolute error: 5.622217108246132e-16\n",
      "relative error: 1.914576449649916e-13"
     ]
    }
   ],
   "source": [
    "output_j = SigPy.nufft_adjoint(coord, ksp_j)\n",
    "output_py = sp.nufft_adjoint(ksp_j, coord)\n",
    "print(\"absolute error: \", norm(output_j - output_py, Inf), \"\\n\",\n",
    "    \"relative error: \", norm((output_j - output_py) ./ output_py, Inf))"
   ]
  },
  {
   "cell_type": "markdown",
   "metadata": {},
   "source": [
    "### Compare running time and output in multiple cases"
   ]
  },
  {
   "cell_type": "code",
   "execution_count": 237,
   "metadata": {},
   "outputs": [],
   "source": [
    "py\"\"\"\n",
    "import timeit\n",
    "from math import log10\n",
    "from statistics import median, mean\n",
    "\n",
    "def benchmark(cmd_str, setup_str=''):\n",
    "    t = timeit.Timer(cmd_str, setup=setup_str, globals=globals())\n",
    "    approx = t.timeit(number=1)\n",
    "    number = 1\n",
    "    if approx > 60:\n",
    "        measurements = [approx]\n",
    "    elif approx > 30:\n",
    "        measurements = [approx] + t.repeat(repeat=3, number=1)\n",
    "    else:\n",
    "        how_many = 30 / approx\n",
    "        number = int(max(how_many // 10**(max(3,log10(how_many)-3)), 1))\n",
    "        repeat = int(ceil(how_many / number))\n",
    "        measurements = list(map(lambda x: x / number, t.repeat(repeat=repeat, number=number)))\n",
    "    \n",
    "    def time_format(sec):\n",
    "        return f\"{sec:.3f} s\" if sec > 1 else f\"{sec*1000:.3f} ms\"\n",
    "\n",
    "    return f'''\n",
    "Python benchmark:\n",
    "  --------------\n",
    "  minimum time:     {time_format(min(measurements))}\n",
    "  median time:      {time_format(median(measurements))}\n",
    "  mean time:        {time_format(mean(measurements))}\n",
    "  maximum time:     {time_format(max(measurements))}\n",
    "  --------------\n",
    "  samples:          {len(measurements)}\n",
    "  evals/sample:     {number}\n",
    "    '''\n",
    "\"\"\""
   ]
  },
  {
   "cell_type": "markdown",
   "metadata": {},
   "source": [
    "#### Small sized 2D problem"
   ]
  },
  {
   "cell_type": "code",
   "execution_count": 398,
   "metadata": {},
   "outputs": [],
   "source": [
    "M, shape = 1024, (16, 16)\n",
    "img = rand(Float64, shape)\n",
    "coord = rand(Float64, M, 2) .* collect(shape)' .- collect(shape)' ./2\n",
    "py\"\"\"\n",
    "img = $img\n",
    "coord = $coord\n",
    "\"\"\""
   ]
  },
  {
   "cell_type": "code",
   "execution_count": 399,
   "metadata": {},
   "outputs": [
    {
     "name": "stdout",
     "output_type": "stream",
     "text": [
      "absolute error: 5.3579045697976356e-15\n",
      "relative error: 3.403288354090141e-14"
     ]
    }
   ],
   "source": [
    "ksp_j = SigPy.nufft(coord, img)\n",
    "ksp_py = sp.nufft(img, coord)\n",
    "print(\"absolute error: \", norm(ksp_j - ksp_py, Inf), \"\\n\",\n",
    "    \"relative error: \", norm((ksp_j - ksp_py) ./ ksp_py, Inf))"
   ]
  },
  {
   "cell_type": "code",
   "execution_count": 400,
   "metadata": {},
   "outputs": [
    {
     "name": "stdout",
     "output_type": "stream",
     "text": [
      "absolute error: 6.530527749616485e-15\n",
      "relative error: 6.858262785592868e-15"
     ]
    }
   ],
   "source": [
    "output_j = SigPy.nufft_adjoint(coord, ksp_j)\n",
    "output_py = sp.nufft_adjoint(ksp_j, coord)\n",
    "print(\"absolute error: \", norm(output_j - output_py, Inf), \"\\n\",\n",
    "    \"relative error: \", norm((output_j - output_py) ./ output_py, Inf))"
   ]
  },
  {
   "cell_type": "code",
   "execution_count": 243,
   "metadata": {},
   "outputs": [
    {
     "name": "stdout",
     "output_type": "stream",
     "text": [
      "\n",
      "Python benchmark:\n",
      "  --------------\n",
      "  minimum time:     1.022 ms\n",
      "  median time:      1.039 ms\n",
      "  mean time:        1.054 ms\n",
      "  maximum time:     1.841 ms\n",
      "  --------------\n",
      "  samples:          1104\n",
      "  evals/sample:     9\n",
      "    "
     ]
    }
   ],
   "source": [
    "print(py\"benchmark('sp.nufft(img, coord)')\")"
   ]
  },
  {
   "cell_type": "code",
   "execution_count": 255,
   "metadata": {},
   "outputs": [
    {
     "data": {
      "text/plain": [
       "BenchmarkTools.Trial: \n",
       "  memory estimate:  88.33 KiB\n",
       "  allocs estimate:  482\n",
       "  --------------\n",
       "  minimum time:     551.340 μs (0.00% GC)\n",
       "  median time:      571.018 μs (0.00% GC)\n",
       "  mean time:        598.590 μs (2.72% GC)\n",
       "  maximum time:     18.441 ms (86.62% GC)\n",
       "  --------------\n",
       "  samples:          8231\n",
       "  evals/sample:     1"
      ]
     },
     "execution_count": 255,
     "metadata": {},
     "output_type": "execute_result"
    }
   ],
   "source": [
    "@benchmark SigPy.nufft(coord, img)"
   ]
  },
  {
   "cell_type": "code",
   "execution_count": 271,
   "metadata": {},
   "outputs": [
    {
     "data": {
      "text/plain": [
       "BenchmarkTools.Trial: \n",
       "  memory estimate:  32.77 KiB\n",
       "  allocs estimate:  356\n",
       "  --------------\n",
       "  minimum time:     247.829 μs (0.00% GC)\n",
       "  median time:      268.574 μs (0.00% GC)\n",
       "  mean time:        292.375 μs (4.16% GC)\n",
       "  maximum time:     37.911 ms (98.40% GC)\n",
       "  --------------\n",
       "  samples:          10000\n",
       "  evals/sample:     1"
      ]
     },
     "execution_count": 271,
     "metadata": {},
     "output_type": "execute_result"
    }
   ],
   "source": [
    "complexImg = convert.(ComplexF64, img)\n",
    "plan = SigPy.nufft_plan(coord, complexImg)\n",
    "output = plan * complexImg\n",
    "@benchmark mul!(output, plan, complexImg)"
   ]
  },
  {
   "cell_type": "code",
   "execution_count": 272,
   "metadata": {},
   "outputs": [
    {
     "name": "stdout",
     "output_type": "stream",
     "text": [
      "\n",
      "Python benchmark:\n",
      "  --------------\n",
      "  minimum time:     1.070 ms\n",
      "  median time:      1.079 ms\n",
      "  mean time:        1.080 ms\n",
      "  maximum time:     1.335 ms\n",
      "  --------------\n",
      "  samples:          1013\n",
      "  evals/sample:     21\n",
      "    "
     ]
    }
   ],
   "source": [
    "py\"\"\"\n",
    "ksp = sp.nufft(img, coord)\n",
    "\"\"\"\n",
    "print(py\"benchmark('sp.nufft_adjoint(ksp, coord)')\")"
   ]
  },
  {
   "cell_type": "code",
   "execution_count": 276,
   "metadata": {},
   "outputs": [
    {
     "data": {
      "text/plain": [
       "BenchmarkTools.Trial: \n",
       "  memory estimate:  55.22 KiB\n",
       "  allocs estimate:  1272\n",
       "  --------------\n",
       "  minimum time:     510.868 μs (0.00% GC)\n",
       "  median time:      524.598 μs (0.00% GC)\n",
       "  mean time:        543.652 μs (1.37% GC)\n",
       "  maximum time:     11.699 ms (82.88% GC)\n",
       "  --------------\n",
       "  samples:          9100\n",
       "  evals/sample:     1"
      ]
     },
     "execution_count": 276,
     "metadata": {},
     "output_type": "execute_result"
    }
   ],
   "source": [
    "ksp = SigPy.nufft(coord, img)\n",
    "@benchmark SigPy.nufft_adjoint(coord, ksp)"
   ]
  },
  {
   "cell_type": "code",
   "execution_count": 277,
   "metadata": {},
   "outputs": [
    {
     "data": {
      "text/plain": [
       "BenchmarkTools.Trial: \n",
       "  memory estimate:  19.36 KiB\n",
       "  allocs estimate:  1109\n",
       "  --------------\n",
       "  minimum time:     328.356 μs (0.00% GC)\n",
       "  median time:      336.836 μs (0.00% GC)\n",
       "  mean time:        345.142 μs (0.89% GC)\n",
       "  maximum time:     10.659 ms (95.98% GC)\n",
       "  --------------\n",
       "  samples:          10000\n",
       "  evals/sample:     1"
      ]
     },
     "execution_count": 277,
     "metadata": {},
     "output_type": "execute_result"
    }
   ],
   "source": [
    "plan_adj = plan'\n",
    "@benchmark mul!(complexImg, plan_adj, ksp)"
   ]
  },
  {
   "cell_type": "markdown",
   "metadata": {},
   "source": [
    "#### Moderate sized 3D problem with batch"
   ]
  },
  {
   "cell_type": "code",
   "execution_count": 401,
   "metadata": {},
   "outputs": [],
   "source": [
    "M, batch, shape = 16384, 12, (128, 128, 128)\n",
    "img = rand(Float64, (batch, shape...))\n",
    "coord = rand(Float64, M, 3) .* collect(shape)' .- collect(shape)' ./2\n",
    "py\"\"\"\n",
    "img = $img\n",
    "coord = $coord\n",
    "\"\"\""
   ]
  },
  {
   "cell_type": "code",
   "execution_count": 402,
   "metadata": {},
   "outputs": [],
   "source": [
    "FFTW.set_num_threads(40)"
   ]
  },
  {
   "cell_type": "code",
   "execution_count": 403,
   "metadata": {},
   "outputs": [
    {
     "name": "stdout",
     "output_type": "stream",
     "text": [
      "absolute error: 2.5011331388797805e-14\n",
      "relative error: 3.305386837857348e-13"
     ]
    }
   ],
   "source": [
    "ksp_j = SigPy.nufft(coord, img)\n",
    "ksp_py = sp.nufft(img, coord)\n",
    "print(\"absolute error: \", norm(ksp_j - ksp_py, Inf), \"\\n\",\n",
    "    \"relative error: \", norm((ksp_j - ksp_py) ./ ksp_py, Inf))"
   ]
  },
  {
   "cell_type": "code",
   "execution_count": 416,
   "metadata": {},
   "outputs": [
    {
     "name": "stdout",
     "output_type": "stream",
     "text": [
      "absolute error: 1.1811088073830869e-15\n",
      "relative error: 5.8175565400131025e-12"
     ]
    }
   ],
   "source": [
    "output_j = SigPy.nufft_adjoint(coord, ksp_j)\n",
    "output_py = sp.nufft_adjoint(ksp_j, coord)\n",
    "print(\"absolute error: \", norm(output_j - output_py, Inf), \"\\n\",\n",
    "    \"relative error: \", norm((output_j - output_py) ./ output_py, Inf))"
   ]
  },
  {
   "cell_type": "code",
   "execution_count": 365,
   "metadata": {},
   "outputs": [
    {
     "name": "stdout",
     "output_type": "stream",
     "text": [
      "\n",
      "Python benchmark:\n",
      "  --------------\n",
      "  minimum time:     7.145 s\n",
      "  median time:      7.147 s\n",
      "  mean time:        7.147 s\n",
      "  maximum time:     7.150 s\n",
      "  --------------\n",
      "  samples:          5\n",
      "  evals/sample:     1\n",
      "    "
     ]
    }
   ],
   "source": [
    "print(py\"benchmark('sp.nufft(img, coord)')\")"
   ]
  },
  {
   "cell_type": "code",
   "execution_count": 373,
   "metadata": {},
   "outputs": [
    {
     "data": {
      "text/plain": [
       "BenchmarkTools.Trial: \n",
       "  memory estimate:  1.84 GiB\n",
       "  allocs estimate:  589\n",
       "  --------------\n",
       "  minimum time:     2.197 s (2.96% GC)\n",
       "  median time:      2.315 s (11.30% GC)\n",
       "  mean time:        2.280 s (9.29% GC)\n",
       "  maximum time:     2.328 s (11.24% GC)\n",
       "  --------------\n",
       "  samples:          3\n",
       "  evals/sample:     1"
      ]
     },
     "execution_count": 373,
     "metadata": {},
     "output_type": "execute_result"
    }
   ],
   "source": [
    "@benchmark SigPy.nufft(coord, img)"
   ]
  },
  {
   "cell_type": "code",
   "execution_count": 367,
   "metadata": {},
   "outputs": [
    {
     "data": {
      "text/plain": [
       "BenchmarkTools.Trial: \n",
       "  memory estimate:  38.13 KiB\n",
       "  allocs estimate:  414\n",
       "  --------------\n",
       "  minimum time:     1.536 s (0.00% GC)\n",
       "  median time:      1.537 s (0.00% GC)\n",
       "  mean time:        1.553 s (0.40% GC)\n",
       "  maximum time:     1.601 s (1.56% GC)\n",
       "  --------------\n",
       "  samples:          4\n",
       "  evals/sample:     1"
      ]
     },
     "execution_count": 367,
     "metadata": {},
     "output_type": "execute_result"
    }
   ],
   "source": [
    "complexImg = convert.(ComplexF64, img)\n",
    "plan = SigPy.nufft_plan(coord, complexImg)\n",
    "output = plan * complexImg\n",
    "@benchmark mul!(output, plan, complexImg)"
   ]
  },
  {
   "cell_type": "code",
   "execution_count": 368,
   "metadata": {},
   "outputs": [
    {
     "name": "stdout",
     "output_type": "stream",
     "text": [
      "\n",
      "Python benchmark:\n",
      "  --------------\n",
      "  minimum time:     7.295 s\n",
      "  median time:      7.301 s\n",
      "  mean time:        7.304 s\n",
      "  maximum time:     7.320 s\n",
      "  --------------\n",
      "  samples:          5\n",
      "  evals/sample:     1\n",
      "    "
     ]
    }
   ],
   "source": [
    "py\"\"\"\n",
    "ksp = sp.nufft(img, coord)\n",
    "\"\"\"\n",
    "print(py\"benchmark('sp.nufft_adjoint(ksp, coord)')\")"
   ]
  },
  {
   "cell_type": "code",
   "execution_count": 374,
   "metadata": {},
   "outputs": [
    {
     "data": {
      "text/plain": [
       "BenchmarkTools.Trial: \n",
       "  memory estimate:  1.44 GiB\n",
       "  allocs estimate:  16764\n",
       "  --------------\n",
       "  minimum time:     2.091 s (0.19% GC)\n",
       "  median time:      2.214 s (4.60% GC)\n",
       "  mean time:        2.229 s (5.15% GC)\n",
       "  maximum time:     2.381 s (10.01% GC)\n",
       "  --------------\n",
       "  samples:          3\n",
       "  evals/sample:     1"
      ]
     },
     "execution_count": 374,
     "metadata": {},
     "output_type": "execute_result"
    }
   ],
   "source": [
    "ksp = SigPy.nufft(coord, img)\n",
    "@benchmark SigPy.nufft_adjoint(coord, ksp)"
   ]
  },
  {
   "cell_type": "code",
   "execution_count": 375,
   "metadata": {},
   "outputs": [
    {
     "data": {
      "text/plain": [
       "BenchmarkTools.Trial: \n",
       "  memory estimate:  264.81 KiB\n",
       "  allocs estimate:  16533\n",
       "  --------------\n",
       "  minimum time:     1.356 s (0.00% GC)\n",
       "  median time:      1.419 s (0.00% GC)\n",
       "  mean time:        1.418 s (0.00% GC)\n",
       "  maximum time:     1.479 s (0.00% GC)\n",
       "  --------------\n",
       "  samples:          4\n",
       "  evals/sample:     1"
      ]
     },
     "execution_count": 375,
     "metadata": {},
     "output_type": "execute_result"
    }
   ],
   "source": [
    "plan_adj = plan'\n",
    "@benchmark mul!(complexImg, plan_adj, ksp)"
   ]
  },
  {
   "cell_type": "markdown",
   "metadata": {},
   "source": [
    "#### Large 3D problem with 2D batch"
   ]
  },
  {
   "cell_type": "code",
   "execution_count": 433,
   "metadata": {},
   "outputs": [
    {
     "name": "stderr",
     "output_type": "stream",
     "text": [
      "WARNING: replacing module SigPy.\n"
     ]
    },
    {
     "data": {
      "text/plain": [
       "Main.SigPy"
      ]
     },
     "execution_count": 433,
     "metadata": {},
     "output_type": "execute_result"
    }
   ],
   "source": [
    "include(\"SigPy.jl\")"
   ]
  },
  {
   "cell_type": "code",
   "execution_count": 434,
   "metadata": {},
   "outputs": [],
   "source": [
    "M, batch, shape = 4186100, (3,4), (34, 30, 68)\n",
    "img = rand(Float64, (batch..., shape...))\n",
    "coord = rand(Float64, M, 3) .* collect(shape)' .- collect(shape)' ./2\n",
    "py\"\"\"\n",
    "img = $img\n",
    "coord = $coord\n",
    "\"\"\""
   ]
  },
  {
   "cell_type": "code",
   "execution_count": 435,
   "metadata": {},
   "outputs": [
    {
     "name": "stdout",
     "output_type": "stream",
     "text": [
      "absolute error: 1.7053155762006797e-13\n",
      "relative error: 1.9703935309171424e-11"
     ]
    }
   ],
   "source": [
    "ksp_j = SigPy.nufft(coord, img)\n",
    "ksp_py = sp.nufft(img, coord)\n",
    "print(\"absolute error: \", norm(ksp_j - ksp_py, Inf), \"\\n\",\n",
    "    \"relative error: \", norm((ksp_j - ksp_py) ./ ksp_py, Inf))"
   ]
  },
  {
   "cell_type": "code",
   "execution_count": 436,
   "metadata": {},
   "outputs": [
    {
     "name": "stdout",
     "output_type": "stream",
     "text": [
      "absolute error: 4.023484415233131e-12\n",
      "relative error: 5.510712981421691e-12"
     ]
    }
   ],
   "source": [
    "output_j = SigPy.nufft_adjoint(coord, ksp_j)\n",
    "output_py = sp.nufft_adjoint(ksp_j, coord)\n",
    "print(\"absolute error: \", norm(output_j - output_py, Inf), \"\\n\",\n",
    "    \"relative error: \", norm((output_j - output_py) ./ output_py, Inf))"
   ]
  },
  {
   "cell_type": "code",
   "execution_count": 421,
   "metadata": {},
   "outputs": [
    {
     "name": "stdout",
     "output_type": "stream",
     "text": [
      "\n",
      "Python benchmark:\n",
      "  --------------\n",
      "  minimum time:     18.049 s\n",
      "  median time:      18.125 s\n",
      "  mean time:        18.125 s\n",
      "  maximum time:     18.201 s\n",
      "  --------------\n",
      "  samples:          2\n",
      "  evals/sample:     1\n",
      "    "
     ]
    }
   ],
   "source": [
    "print(py\"benchmark('sp.nufft(img, coord)')\")"
   ]
  },
  {
   "cell_type": "code",
   "execution_count": 427,
   "metadata": {},
   "outputs": [
    {
     "data": {
      "text/plain": [
       "BenchmarkTools.Trial: \n",
       "  memory estimate:  925.92 MiB\n",
       "  allocs estimate:  718\n",
       "  --------------\n",
       "  minimum time:     1.539 s (0.79% GC)\n",
       "  median time:      1.732 s (14.15% GC)\n",
       "  mean time:        1.682 s (11.14% GC)\n",
       "  maximum time:     1.773 s (17.18% GC)\n",
       "  --------------\n",
       "  samples:          3\n",
       "  evals/sample:     1"
      ]
     },
     "execution_count": 427,
     "metadata": {},
     "output_type": "execute_result"
    }
   ],
   "source": [
    "@benchmark SigPy.nufft(coord, img)"
   ]
  },
  {
   "cell_type": "code",
   "execution_count": 442,
   "metadata": {},
   "outputs": [
    {
     "data": {
      "text/plain": [
       "BenchmarkTools.Trial: \n",
       "  memory estimate:  42.66 KiB\n",
       "  allocs estimate:  559\n",
       "  --------------\n",
       "  minimum time:     1.037 s (0.00% GC)\n",
       "  median time:      1.038 s (0.00% GC)\n",
       "  mean time:        1.039 s (0.12% GC)\n",
       "  maximum time:     1.040 s (0.58% GC)\n",
       "  --------------\n",
       "  samples:          5\n",
       "  evals/sample:     1"
      ]
     },
     "execution_count": 442,
     "metadata": {},
     "output_type": "execute_result"
    }
   ],
   "source": [
    "complexImg = convert.(ComplexF64, img)\n",
    "plan = SigPy.nufft_plan(coord, complexImg)\n",
    "output = plan * complexImg\n",
    "@benchmark mul!(output, plan, complexImg)"
   ]
  },
  {
   "cell_type": "code",
   "execution_count": 424,
   "metadata": {},
   "outputs": [
    {
     "name": "stdout",
     "output_type": "stream",
     "text": [
      "\n",
      "Python benchmark:\n",
      "  --------------\n",
      "  minimum time:     19.828 s\n",
      "  median time:      19.856 s\n",
      "  mean time:        19.856 s\n",
      "  maximum time:     19.885 s\n",
      "  --------------\n",
      "  samples:          2\n",
      "  evals/sample:     1\n",
      "    "
     ]
    }
   ],
   "source": [
    "py\"\"\"\n",
    "ksp = sp.nufft(img, coord)\n",
    "\"\"\"\n",
    "print(py\"benchmark('sp.nufft_adjoint(ksp, coord)')\")"
   ]
  },
  {
   "cell_type": "code",
   "execution_count": 438,
   "metadata": {},
   "outputs": [
    {
     "data": {
      "text/plain": [
       "BenchmarkTools.Trial: \n",
       "  memory estimate:  1.05 GiB\n",
       "  allocs estimate:  907\n",
       "  --------------\n",
       "  minimum time:     3.174 s (14.79% GC)\n",
       "  median time:      3.950 s (17.86% GC)\n",
       "  mean time:        3.950 s (17.86% GC)\n",
       "  maximum time:     4.725 s (19.93% GC)\n",
       "  --------------\n",
       "  samples:          2\n",
       "  evals/sample:     1"
      ]
     },
     "execution_count": 438,
     "metadata": {},
     "output_type": "execute_result"
    }
   ],
   "source": [
    "ksp = SigPy.nufft(coord, img)\n",
    "@benchmark SigPy.nufft_adjoint(coord, ksp)"
   ]
  },
  {
   "cell_type": "code",
   "execution_count": 443,
   "metadata": {},
   "outputs": [
    {
     "data": {
      "text/plain": [
       "BenchmarkTools.Trial: \n",
       "  memory estimate:  991.88 MiB\n",
       "  allocs estimate:  696\n",
       "  --------------\n",
       "  minimum time:     3.517 s (13.10% GC)\n",
       "  median time:      3.980 s (14.52% GC)\n",
       "  mean time:        3.980 s (14.52% GC)\n",
       "  maximum time:     4.443 s (15.65% GC)\n",
       "  --------------\n",
       "  samples:          2\n",
       "  evals/sample:     1"
      ]
     },
     "execution_count": 443,
     "metadata": {},
     "output_type": "execute_result"
    }
   ],
   "source": [
    "complexImg = convert.(ComplexF64, img)\n",
    "plan_adj = plan'\n",
    "@benchmark mul!(complexImg, plan_adj, ksp)"
   ]
  },
  {
   "cell_type": "markdown",
   "metadata": {},
   "source": [
    "## Unused code"
   ]
  },
  {
   "cell_type": "code",
   "execution_count": 15,
   "metadata": {},
   "outputs": [
    {
     "data": {
      "text/plain": [
       "_spline_kernel (generic function with 1 method)"
      ]
     },
     "execution_count": 15,
     "metadata": {},
     "output_type": "execute_result"
    }
   ],
   "source": [
    "function _spline_kernel(x::T, order::T)::T where {T<:Real}\n",
    "    abs(x) > 1 && return zero(x)\n",
    "\n",
    "    if order == 0\n",
    "        return one(x)\n",
    "    elseif order == 1\n",
    "        return 1 - abs(x)\n",
    "    elseif order == 2\n",
    "        if abs(x) > 1 / 3\n",
    "            return 9 / 8 * (1 - abs(x))^2\n",
    "        else\n",
    "            return 3 / 4 * (1 - 3 * x^2)\n",
    "        end\n",
    "    else\n",
    "        @assert \"Only {0,1,2}-order spline kernel is supported\"\n",
    "    end\n",
    "end"
   ]
  },
  {
   "cell_type": "code",
   "execution_count": 16,
   "metadata": {},
   "outputs": [
    {
     "data": {
      "text/plain": [
       "_kaiser_bessel_kernel (generic function with 1 method)"
      ]
     },
     "execution_count": 16,
     "metadata": {},
     "output_type": "execute_result"
    }
   ],
   "source": [
    "function _kaiser_bessel_kernel(x::T, β::T)::T where {T<:Real}\n",
    "    abs(x) > 1 && return zero(x)\n",
    "\n",
    "    x = β * √(1 - x^2)\n",
    "    t = x / 3.75\n",
    "    if x < 3.75\n",
    "        return 1 + 3.5156229 * t^2 + 3.0899424 * t^4 +\n",
    "            1.2067492 * t^6 + 0.2659732 * t^8 +\n",
    "            0.0360768 * t^10 + 0.0045813 * t^12\n",
    "    else\n",
    "        return x^-0.5 * exp(x) * (\n",
    "            0.39894228 + 0.01328592 * t^-1 +\n",
    "            0.00225319 * t^-2 - 0.00157565 * t^-3 +\n",
    "            0.00916281 * t^-4 - 0.02057706 * t^-5 +\n",
    "            0.02635537 * t^-6 - 0.01647633 * t^-7 +\n",
    "            0.00392377 * t^-8)\n",
    "    end\n",
    "end"
   ]
  },
  {
   "cell_type": "code",
   "execution_count": null,
   "metadata": {},
   "outputs": [],
   "source": []
  }
 ],
 "metadata": {
  "kernelspec": {
   "display_name": "Julia 1.3.0",
   "language": "julia",
   "name": "julia-1.3"
  },
  "language_info": {
   "file_extension": ".jl",
   "mimetype": "application/julia",
   "name": "julia",
   "version": "1.3.0"
  }
 },
 "nbformat": 4,
 "nbformat_minor": 4
}
