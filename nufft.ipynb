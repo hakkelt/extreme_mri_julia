{
 "cells": [
  {
   "cell_type": "code",
   "execution_count": 1,
   "metadata": {},
   "outputs": [],
   "source": [
    "using FFTW"
   ]
  },
  {
   "cell_type": "code",
   "execution_count": null,
   "metadata": {},
   "outputs": [],
   "source": [
    "include(\"SigJl.jl\")"
   ]
  },
  {
   "cell_type": "code",
   "execution_count": null,
   "metadata": {},
   "outputs": [],
   "source": [
    "using LinearAlgebra, MacroTools, NFFT, BenchmarkTools\n",
    "using PyCall, Libdl\n",
    "Libdl.dlopen(ENV[\"HOME\"]*\"/.local/lib/python3.6/site-packages/llvmlite/binding/libllvmlite.so\",\n",
    "    Libdl.RTLD_DEEPBIND);\n",
    "py\"\"\"\n",
    "from math import ceil\n",
    "import numpy as np\n",
    "import SigJl as sp\n",
    "from SigJl import util, interp\n",
    "\"\"\""
   ]
  },
  {
   "cell_type": "markdown",
   "metadata": {},
   "source": [
    "## Compare with reference implementation"
   ]
  },
  {
   "cell_type": "markdown",
   "metadata": {},
   "source": [
    "### Comparing output"
   ]
  },
  {
   "cell_type": "code",
   "execution_count": null,
   "metadata": {},
   "outputs": [],
   "source": [
    "sp = pyimport(\"SigJl\")\n",
    "interp = pyimport(\"SigJl.interp\")\n",
    "util = pyimport(\"SigJl.util\");"
   ]
  },
  {
   "cell_type": "code",
   "execution_count": null,
   "metadata": {},
   "outputs": [],
   "source": [
    "py\"\"\"\n",
    "def nufft(input, coord, oversamp=1.25, width=4.0, n=128):\n",
    "    ndim = coord.shape[-1]\n",
    "    beta = np.pi * (((width / oversamp) * (oversamp - 0.5))**2 - 0.8)**0.5\n",
    "    os_shape = _get_oversamp_shape(input.shape, ndim, oversamp)\n",
    "\n",
    "    output = input.copy()\n",
    "\n",
    "    # Apodize\n",
    "    _apodize(output, ndim, oversamp, width, beta)\n",
    "\n",
    "    # Zero-pad\n",
    "    output /= util.prod(input.shape[-ndim:])**0.5\n",
    "    output = util.resize(output, os_shape)\n",
    "\n",
    "    # FFT\n",
    "    output = sp.fft(output, axes=range(-ndim, 0), norm=None)\n",
    "\n",
    "    # Interpolate\n",
    "    coord = _scale_coord(coord, input.shape, oversamp)\n",
    "    kernel = _get_kaiser_bessel_kernel(n, width, beta)\n",
    "    output = interp.interpolate(output, width, kernel, coord)\n",
    "\n",
    "    return output\n",
    "\n",
    "def _get_kaiser_bessel_kernel(n, width, beta):\n",
    "    x = np.arange(n) / n\n",
    "    kernel = 1 / width * np.i0(beta * (1 - x**2)**0.5)\n",
    "    return kernel\n",
    "\n",
    "def _scale_coord(coord, shape, oversamp):\n",
    "    ndim = coord.shape[-1]\n",
    "    scale = [ceil(oversamp * i) / i for i in shape[-ndim:]]\n",
    "    shift = [ceil(oversamp * i) // 2 for i in shape[-ndim:]]\n",
    "\n",
    "    coord = scale * coord + shift\n",
    "\n",
    "    return coord\n",
    "\n",
    "def _get_oversamp_shape(shape, ndim, oversamp):\n",
    "    return list(shape)[:-ndim] + [ceil(oversamp * i) for i in shape[-ndim:]]\n",
    "\n",
    "def estimate_shape(coord):\n",
    "    ndim = coord.shape[-1]\n",
    "    return [int(coord[..., i].max() - coord[..., i].min()) for i in range(ndim)]\n",
    "\n",
    "def _apodize(input, ndim, oversamp, width, beta):\n",
    "\n",
    "    output = input\n",
    "    for a in range(-ndim, 0):\n",
    "        i = output.shape[a]\n",
    "        os_i = ceil(oversamp * i)\n",
    "        idx = np.arange(i)\n",
    "\n",
    "        # Calculate apodization\n",
    "        apod = (beta**2 - (np.pi * width * (idx - i // 2) / os_i)**2)**0.5\n",
    "        apod /= np.sinh(apod)\n",
    "        output *= apod.reshape([i] + [1] * (-a - 1))\n",
    "\n",
    "    return output\n",
    "\n",
    "def interpolate(input, width, kernel, coord):\n",
    "    ndim = coord.shape[-1]\n",
    "\n",
    "    batch_shape = input.shape[:-ndim]\n",
    "    batch_size = util.prod(batch_shape)\n",
    "\n",
    "    pts_shape = coord.shape[:-1]\n",
    "    npts = util.prod(pts_shape)\n",
    "\n",
    "    isreal = np.issubdtype(input.dtype, np.floating)\n",
    "\n",
    "    input = input.reshape([batch_size] + list(input.shape[-ndim:]))\n",
    "    coord = coord.reshape([npts, ndim])\n",
    "    output = np.zeros([batch_size, npts], dtype=input.dtype)\n",
    "\n",
    "    _interpolate3(output, input, width, kernel, coord)\n",
    "\n",
    "    return output.reshape(batch_shape + pts_shape)\n",
    "\n",
    "def _interpolate3(output, input, width, kernel, coord):\n",
    "    batch_size, nz, ny, nx = input.shape\n",
    "    npts = coord.shape[0]\n",
    "\n",
    "    for i in range(npts):\n",
    "\n",
    "        kx, ky, kz = coord[i, -1], coord[i, -2], coord[i, -3]\n",
    "\n",
    "        x0, y0, z0 = (np.ceil(kx - width / 2).astype(int),\n",
    "                      np.ceil(ky - width / 2).astype(int),\n",
    "                      np.ceil(kz - width / 2).astype(int))\n",
    "\n",
    "        x1, y1, z1 = (np.floor(kx + width / 2).astype(int),\n",
    "                      np.floor(ky + width / 2).astype(int),\n",
    "                      np.floor(kz + width / 2).astype(int))\n",
    "\n",
    "        for z in range(z0, z1 + 1):\n",
    "            wz = lin_interpolate(kernel, abs(z - kz) / (width / 2))\n",
    "\n",
    "            for y in range(y0, y1 + 1):\n",
    "                wy = wz * lin_interpolate(kernel, abs(y - ky) / (width / 2))\n",
    "\n",
    "                for x in range(x0, x1 + 1):\n",
    "                    w = wy * lin_interpolate(kernel, abs(x - kx) / (width / 2))\n",
    "\n",
    "                    for b in range(batch_size):\n",
    "                        output[b, i] += w * input[b, z % nz, y % ny, x % nx]\n",
    "\n",
    "    return output\n",
    "\n",
    "def lin_interpolate(kernel, x):\n",
    "    if x >= 1:\n",
    "        return 0.0\n",
    "    n = len(kernel)\n",
    "    idx = int(x * n)\n",
    "    frac = x * n - idx\n",
    "\n",
    "    left = kernel[idx]\n",
    "    if idx == n - 1:\n",
    "        right = 0.0\n",
    "    else:\n",
    "        right = kernel[idx + 1]\n",
    "    return (1.0 - frac) * left + frac * right\n",
    "\"\"\""
   ]
  },
  {
   "cell_type": "code",
   "execution_count": 11,
   "metadata": {},
   "outputs": [],
   "source": [
    "M, shape = 1000, (34, 30, 68)\n",
    "img = rand(Float64, shape)\n",
    "coord_py = rand(Float64, M, 3) .* collect(shape)' .- collect(shape)' ./2\n",
    "coord_j = permutedims(coord_py, (2,1));"
   ]
  },
  {
   "cell_type": "code",
   "execution_count": 12,
   "metadata": {},
   "outputs": [
    {
     "data": {
      "text/plain": [
       "6.996659047674343"
      ]
     },
     "execution_count": 12,
     "metadata": {},
     "output_type": "execute_result"
    }
   ],
   "source": [
    "width, n, oversamp = 4, 128, 1.25\n",
    "ndim = ndims(img)\n",
    "β = π * √(((width / oversamp) * (oversamp - 0.5))^2 - 0.8)"
   ]
  },
  {
   "cell_type": "markdown",
   "metadata": {},
   "source": [
    "Apodization implementations are identical:"
   ]
  },
  {
   "cell_type": "code",
   "execution_count": 14,
   "metadata": {},
   "outputs": [
    {
     "name": "stdout",
     "output_type": "stream",
     "text": [
      "absolute error: 0.0\n"
     ]
    }
   ],
   "source": [
    "signal = copy(img)\n",
    "output_j = SigJl._apodize!(signal, ndim, oversamp, width, β)\n",
    "output_py = py\"_apodize\"(signal, ndim, oversamp, width, β)\n",
    "print(\"absolute error: \", norm(output_j - output_py, Inf), \"\\n\")"
   ]
  },
  {
   "cell_type": "markdown",
   "metadata": {},
   "source": [
    "But there is a significant difference between FFTW and numpy's FFT:"
   ]
  },
  {
   "cell_type": "code",
   "execution_count": 15,
   "metadata": {},
   "outputs": [
    {
     "name": "stdout",
     "output_type": "stream",
     "text": [
      "absolute error: 1.2069779387208717e-12\n",
      "relative error: 1.5021574004802928e-13"
     ]
    }
   ],
   "source": [
    "output_j = SigJl.centering_fft!(convert.(Complex, img), (1,2,3))\n",
    "output_py = py\"sp.fft($img, axes=(1,2,3), norm=None)\"\n",
    "print(\"absolute error: \", norm(output_j - output_py, Inf), \"\\n\",\n",
    "    \"relative error: \", norm((output_j - output_py) ./ output_py, Inf))"
   ]
  },
  {
   "cell_type": "markdown",
   "metadata": {},
   "source": [
    "Also, there is some (but magnitudes smaller) difference between Julia's and numpy's Bessel function:"
   ]
  },
  {
   "cell_type": "code",
   "execution_count": 16,
   "metadata": {},
   "outputs": [
    {
     "name": "stdout",
     "output_type": "stream",
     "text": [
      "absolute error: 1.4210854715202004e-14\n",
      "relative error: 4.753447469672048e-16"
     ]
    }
   ],
   "source": [
    "kernel_py = py\"_get_kaiser_bessel_kernel\"(n, width, β)\n",
    "x = range(0, stop=n-1, step=1) ./ n\n",
    "kernel_j = SigJl.window_kaiser_bessel.(x, width, β)\n",
    "print(\"absolute error: \", norm(kernel_j - kernel_py, Inf), \"\\n\",\n",
    "    \"relative error: \", norm((kernel_j - kernel_py) ./ kernel_py, Inf))"
   ]
  },
  {
   "cell_type": "markdown",
   "metadata": {},
   "source": [
    "Altogether:"
   ]
  },
  {
   "cell_type": "code",
   "execution_count": 17,
   "metadata": {},
   "outputs": [
    {
     "name": "stdout",
     "output_type": "stream",
     "text": [
      "absolute error: 1.0223701381680905e-14\n",
      "relative error: 1.0132851590096376e-13"
     ]
    }
   ],
   "source": [
    "ksp_j = SigJl.nufft(coord_j, img)\n",
    "ksp_py = py\"nufft\"(img, coord_py)\n",
    "print(\"absolute error: \", norm(ksp_j - ksp_py, Inf), \"\\n\",\n",
    "    \"relative error: \", norm((ksp_j - ksp_py) ./ ksp_py, Inf))"
   ]
  },
  {
   "cell_type": "code",
   "execution_count": 18,
   "metadata": {},
   "outputs": [
    {
     "name": "stdout",
     "output_type": "stream",
     "text": [
      "absolute error: 1.0223701381680905e-14\n",
      "relative error: 1.0132851590096376e-13"
     ]
    }
   ],
   "source": [
    "plan = SigJl.nufft_plan(coord_j, convert.(ComplexF64, img))\n",
    "ksp_j = plan * convert.(ComplexF64, img)\n",
    "ksp_py = py\"nufft\"(img, coord_py)\n",
    "print(\"absolute error: \", norm(ksp_j - ksp_py, Inf), \"\\n\",\n",
    "    \"relative error: \", norm((ksp_j - ksp_py) ./ ksp_py, Inf))"
   ]
  },
  {
   "cell_type": "code",
   "execution_count": 19,
   "metadata": {},
   "outputs": [
    {
     "name": "stdout",
     "output_type": "stream",
     "text": [
      "absolute error: 1.0223701381680905e-14\n",
      "relative error: 1.0132851590096376e-13"
     ]
    }
   ],
   "source": [
    "plan = SigJl.nufft_plan(coord_j, size(img))\n",
    "ksp_j = plan * convert.(ComplexF64, img)\n",
    "ksp_py = py\"nufft\"(img, coord_py)\n",
    "print(\"absolute error: \", norm(ksp_j - ksp_py, Inf), \"\\n\",\n",
    "    \"relative error: \", norm((ksp_j - ksp_py) ./ ksp_py, Inf))"
   ]
  },
  {
   "cell_type": "code",
   "execution_count": 20,
   "metadata": {},
   "outputs": [
    {
     "name": "stdout",
     "output_type": "stream",
     "text": [
      "absolute error: 5.67456129498071e-16\n",
      "relative error: 9.534559559989506e-13"
     ]
    }
   ],
   "source": [
    "output_py = sp.nufft_adjoint(ksp_j, coord_py)\n",
    "plan = SigJl.nufft_plan(coord_j, output_py)\n",
    "output_j = plan' * ksp_j\n",
    "print(\"absolute error: \", norm(output_j - output_py, Inf), \"\\n\",\n",
    "    \"relative error: \", norm((output_j - output_py) ./ output_py, Inf))"
   ]
  },
  {
   "cell_type": "code",
   "execution_count": 21,
   "metadata": {},
   "outputs": [
    {
     "name": "stdout",
     "output_type": "stream",
     "text": [
      "absolute error: 5.67456129498071e-16\n",
      "relative error: 9.534559559989506e-13"
     ]
    }
   ],
   "source": [
    "output_py = sp.nufft_adjoint(ksp_j, coord_py)\n",
    "plan = SigJl.nufft_plan(coord_j)\n",
    "output_j = plan' * ksp_j\n",
    "print(\"absolute error: \", norm(output_j - output_py, Inf), \"\\n\",\n",
    "    \"relative error: \", norm((output_j - output_py) ./ output_py, Inf))"
   ]
  },
  {
   "cell_type": "code",
   "execution_count": 22,
   "metadata": {},
   "outputs": [
    {
     "name": "stdout",
     "output_type": "stream",
     "text": [
      "absolute error: 5.67456129498071e-16\n",
      "relative error: 9.534559559989506e-13"
     ]
    }
   ],
   "source": [
    "output_j = SigJl.nufft_adjoint(coord_j, ksp_j)\n",
    "output_py = sp.nufft_adjoint(ksp_j, coord_py)\n",
    "print(\"absolute error: \", norm(output_j - output_py, Inf), \"\\n\",\n",
    "    \"relative error: \", norm((output_j - output_py) ./ output_py, Inf))"
   ]
  },
  {
   "cell_type": "markdown",
   "metadata": {},
   "source": [
    "### Compare running time and output in multiple cases"
   ]
  },
  {
   "cell_type": "code",
   "execution_count": 23,
   "metadata": {},
   "outputs": [],
   "source": [
    "py\"\"\"\n",
    "import timeit\n",
    "from math import log10\n",
    "from statistics import median, mean\n",
    "\n",
    "def benchmark(cmd_str, setup_str=''):\n",
    "    t = timeit.Timer(cmd_str, setup=setup_str, globals=globals())\n",
    "    approx = t.timeit(number=1)\n",
    "    number = 1\n",
    "    if approx > 60:\n",
    "        measurements = [approx]\n",
    "    elif approx > 30:\n",
    "        measurements = [approx] + t.repeat(repeat=3, number=1)\n",
    "    else:\n",
    "        how_many = 30 / approx\n",
    "        number = int(max(how_many // 10**(max(3,log10(how_many)-3)), 1))\n",
    "        repeat = int(ceil(how_many / number))\n",
    "        measurements = list(map(lambda x: x / number, t.repeat(repeat=repeat, number=number)))\n",
    "    \n",
    "    def time_format(sec):\n",
    "        return f\"{sec:.3f} s\" if sec > 1 else f\"{sec*1000:.3f} ms\"\n",
    "\n",
    "    return f'''\n",
    "Python benchmark:\n",
    "  --------------\n",
    "  minimum time:     {time_format(min(measurements))}\n",
    "  median time:      {time_format(median(measurements))}\n",
    "  mean time:        {time_format(mean(measurements))}\n",
    "  maximum time:     {time_format(max(measurements))}\n",
    "  --------------\n",
    "  samples:          {len(measurements)}\n",
    "  evals/sample:     {number}\n",
    "    '''\n",
    "\"\"\""
   ]
  },
  {
   "cell_type": "markdown",
   "metadata": {},
   "source": [
    "#### Small sized 2D problem"
   ]
  },
  {
   "cell_type": "code",
   "execution_count": 25,
   "metadata": {},
   "outputs": [],
   "source": [
    "M, shape = 1024, (16, 16)\n",
    "img = rand(Float64, shape)\n",
    "coord_py = rand(Float64, M, 2) .* collect(shape)' .- collect(shape)' ./2\n",
    "coord_j = permutedims(coord_py, (2,1))\n",
    "py\"\"\"\n",
    "img = $img\n",
    "coord = $coord_py\n",
    "\"\"\""
   ]
  },
  {
   "cell_type": "code",
   "execution_count": 26,
   "metadata": {},
   "outputs": [
    {
     "name": "stdout",
     "output_type": "stream",
     "text": [
      "absolute error: 5.341271894614334e-15\n",
      "relative error: 2.4400971837401695e-14"
     ]
    }
   ],
   "source": [
    "ksp_j = SigJl.nufft(coord_j, img)\n",
    "ksp_py = sp.nufft(img, coord_py)\n",
    "print(\"absolute error: \", norm(ksp_j - ksp_py, Inf), \"\\n\",\n",
    "    \"relative error: \", norm((ksp_j - ksp_py) ./ ksp_py, Inf))"
   ]
  },
  {
   "cell_type": "code",
   "execution_count": 27,
   "metadata": {},
   "outputs": [
    {
     "name": "stdout",
     "output_type": "stream",
     "text": [
      "absolute error: 6.218007833105156e-15\n",
      "relative error: 1.453958579923098e-14"
     ]
    }
   ],
   "source": [
    "output_j = SigJl.nufft_adjoint(coord_j, ksp_j)\n",
    "output_py = sp.nufft_adjoint(ksp_j, coord_py)\n",
    "print(\"absolute error: \", norm(output_j - output_py, Inf), \"\\n\",\n",
    "    \"relative error: \", norm((output_j - output_py) ./ output_py, Inf))"
   ]
  },
  {
   "cell_type": "code",
   "execution_count": 28,
   "metadata": {},
   "outputs": [
    {
     "name": "stdout",
     "output_type": "stream",
     "text": [
      "\n",
      "Python benchmark:\n",
      "  --------------\n",
      "  minimum time:     1.041 ms\n",
      "  median time:      1.046 ms\n",
      "  mean time:        1.047 ms\n",
      "  maximum time:     1.233 ms\n",
      "  --------------\n",
      "  samples:          1003\n",
      "  evals/sample:     17\n",
      "    "
     ]
    }
   ],
   "source": [
    "print(py\"benchmark('sp.nufft(img, coord)')\")"
   ]
  },
  {
   "cell_type": "code",
   "execution_count": 29,
   "metadata": {},
   "outputs": [
    {
     "data": {
      "text/plain": [
       "BenchmarkTools.Trial: \n",
       "  memory estimate:  88.39 KiB\n",
       "  allocs estimate:  462\n",
       "  --------------\n",
       "  minimum time:     528.508 μs (0.00% GC)\n",
       "  median time:      578.802 μs (0.00% GC)\n",
       "  mean time:        612.044 μs (1.60% GC)\n",
       "  maximum time:     8.596 ms (82.34% GC)\n",
       "  --------------\n",
       "  samples:          8046\n",
       "  evals/sample:     1"
      ]
     },
     "execution_count": 29,
     "metadata": {},
     "output_type": "execute_result"
    }
   ],
   "source": [
    "@benchmark SigJl.nufft(coord_j, img)"
   ]
  },
  {
   "cell_type": "code",
   "execution_count": 30,
   "metadata": {},
   "outputs": [
    {
     "data": {
      "text/plain": [
       "BenchmarkTools.Trial: \n",
       "  memory estimate:  32.11 KiB\n",
       "  allocs estimate:  337\n",
       "  --------------\n",
       "  minimum time:     239.127 μs (0.00% GC)\n",
       "  median time:      261.550 μs (0.00% GC)\n",
       "  mean time:        311.860 μs (1.59% GC)\n",
       "  maximum time:     23.677 ms (29.05% GC)\n",
       "  --------------\n",
       "  samples:          10000\n",
       "  evals/sample:     1"
      ]
     },
     "execution_count": 30,
     "metadata": {},
     "output_type": "execute_result"
    }
   ],
   "source": [
    "complexImg = convert.(ComplexF64, img)\n",
    "plan = SigJl.nufft_plan(coord_j, complexImg)\n",
    "output = plan * complexImg\n",
    "@benchmark mul!(output, plan, complexImg)"
   ]
  },
  {
   "cell_type": "code",
   "execution_count": 31,
   "metadata": {},
   "outputs": [
    {
     "name": "stdout",
     "output_type": "stream",
     "text": [
      "\n",
      "Python benchmark:\n",
      "  --------------\n",
      "  minimum time:     1.084 ms\n",
      "  median time:      1.092 ms\n",
      "  mean time:        1.092 ms\n",
      "  maximum time:     1.168 ms\n",
      "  --------------\n",
      "  samples:          1001\n",
      "  evals/sample:     25\n",
      "    "
     ]
    }
   ],
   "source": [
    "py\"\"\"\n",
    "ksp = sp.nufft(img, coord)\n",
    "\"\"\"\n",
    "print(py\"benchmark('sp.nufft_adjoint(ksp, coord)')\")"
   ]
  },
  {
   "cell_type": "code",
   "execution_count": 32,
   "metadata": {},
   "outputs": [
    {
     "data": {
      "text/plain": [
       "BenchmarkTools.Trial: \n",
       "  memory estimate:  47.67 KiB\n",
       "  allocs estimate:  766\n",
       "  --------------\n",
       "  minimum time:     560.668 μs (0.00% GC)\n",
       "  median time:      573.342 μs (0.00% GC)\n",
       "  mean time:        580.079 μs (0.75% GC)\n",
       "  maximum time:     5.674 ms (73.14% GC)\n",
       "  --------------\n",
       "  samples:          8531\n",
       "  evals/sample:     1"
      ]
     },
     "execution_count": 32,
     "metadata": {},
     "output_type": "execute_result"
    }
   ],
   "source": [
    "ksp = SigJl.nufft(coord_j, img)\n",
    "@benchmark SigJl.nufft_adjoint(coord_j, ksp)"
   ]
  },
  {
   "cell_type": "code",
   "execution_count": 33,
   "metadata": {},
   "outputs": [
    {
     "data": {
      "text/plain": [
       "BenchmarkTools.Trial: \n",
       "  memory estimate:  10.75 KiB\n",
       "  allocs estimate:  580\n",
       "  --------------\n",
       "  minimum time:     341.538 μs (0.00% GC)\n",
       "  median time:      348.559 μs (0.00% GC)\n",
       "  mean time:        349.487 μs (0.23% GC)\n",
       "  maximum time:     4.487 ms (90.98% GC)\n",
       "  --------------\n",
       "  samples:          10000\n",
       "  evals/sample:     1"
      ]
     },
     "execution_count": 33,
     "metadata": {},
     "output_type": "execute_result"
    }
   ],
   "source": [
    "plan_adj = plan'\n",
    "@benchmark mul!(complexImg, plan_adj, ksp)"
   ]
  },
  {
   "cell_type": "markdown",
   "metadata": {},
   "source": [
    "#### Small sized 2D problem with shaped coord vector"
   ]
  },
  {
   "cell_type": "code",
   "execution_count": 34,
   "metadata": {},
   "outputs": [],
   "source": [
    "M, shape = (4, 256), (16, 16)\n",
    "D = length(shape)\n",
    "img = rand(Float64, shape)\n",
    "scale_and_shift = reshape(collect(shape), fill(1, length(M))..., D)\n",
    "coord_py = rand(Float64, M..., D) .* scale_and_shift .- scale_and_shift ./2\n",
    "coord_j = permutedims(coord_py, (3,1,2))\n",
    "py\"\"\"\n",
    "img = $img\n",
    "coord = $coord_py\n",
    "\"\"\""
   ]
  },
  {
   "cell_type": "code",
   "execution_count": 35,
   "metadata": {},
   "outputs": [
    {
     "name": "stdout",
     "output_type": "stream",
     "text": [
      "absolute error: 3.1264164235997256e-15\n",
      "relative error: 1.802739049650836e-14"
     ]
    }
   ],
   "source": [
    "ksp_j = SigJl.nufft(coord_j, img)\n",
    "ksp_py = sp.nufft(img, coord_py)\n",
    "print(\"absolute error: \", norm(ksp_j - ksp_py, Inf), \"\\n\",\n",
    "    \"relative error: \", norm((ksp_j - ksp_py) ./ ksp_py, Inf))"
   ]
  },
  {
   "cell_type": "code",
   "execution_count": 36,
   "metadata": {},
   "outputs": [
    {
     "name": "stdout",
     "output_type": "stream",
     "text": [
      "absolute error: 6.6867899593804964e-15\n",
      "relative error: 1.495324007899287e-14"
     ]
    }
   ],
   "source": [
    "output_j = SigJl.nufft_adjoint(coord_j, ksp_j)\n",
    "output_py = sp.nufft_adjoint(ksp_j, coord_py)\n",
    "print(\"absolute error: \", norm(output_j - output_py, Inf), \"\\n\",\n",
    "    \"relative error: \", norm((output_j - output_py) ./ output_py, Inf))"
   ]
  },
  {
   "cell_type": "markdown",
   "metadata": {},
   "source": [
    "#### Moderate sized 3D problem with batch"
   ]
  },
  {
   "cell_type": "code",
   "execution_count": 37,
   "metadata": {},
   "outputs": [],
   "source": [
    "M, batch, shape = 16384, 12, (128, 128, 128)\n",
    "img = rand(Float64, (batch, shape...))\n",
    "coord_py = rand(Float64, M, 3) .* collect(shape)' .- collect(shape)' ./2\n",
    "coord_j = permutedims(coord_py, (2,1))\n",
    "py\"\"\"\n",
    "img = $img\n",
    "coord = $coord_py\n",
    "\"\"\""
   ]
  },
  {
   "cell_type": "code",
   "execution_count": 38,
   "metadata": {},
   "outputs": [],
   "source": [
    "FFTW.set_num_threads(40)"
   ]
  },
  {
   "cell_type": "code",
   "execution_count": 39,
   "metadata": {},
   "outputs": [
    {
     "name": "stdout",
     "output_type": "stream",
     "text": [
      "absolute error: 3.130435208578516e-14\n",
      "relative error: 4.1080348047135497e-13"
     ]
    }
   ],
   "source": [
    "ksp_j = SigJl.nufft(coord_j, img)\n",
    "ksp_py = sp.nufft(img, coord_py)\n",
    "print(\"absolute error: \", norm(ksp_j - ksp_py, Inf), \"\\n\",\n",
    "    \"relative error: \", norm((ksp_j - ksp_py) ./ ksp_py, Inf))"
   ]
  },
  {
   "cell_type": "code",
   "execution_count": 40,
   "metadata": {},
   "outputs": [
    {
     "name": "stdout",
     "output_type": "stream",
     "text": [
      "absolute error: 1.004684985911257e-15\n",
      "relative error: 1.147562021996739e-11"
     ]
    }
   ],
   "source": [
    "output_j = SigJl.nufft_adjoint(coord_j, ksp_j)\n",
    "output_py = sp.nufft_adjoint(ksp_j, coord_py)\n",
    "print(\"absolute error: \", norm(output_j - output_py, Inf), \"\\n\",\n",
    "    \"relative error: \", norm((output_j - output_py) ./ output_py, Inf))"
   ]
  },
  {
   "cell_type": "code",
   "execution_count": 41,
   "metadata": {},
   "outputs": [
    {
     "name": "stdout",
     "output_type": "stream",
     "text": [
      "\n",
      "Python benchmark:\n",
      "  --------------\n",
      "  minimum time:     6.475 s\n",
      "  median time:      6.512 s\n",
      "  mean time:        6.539 s\n",
      "  maximum time:     6.634 s\n",
      "  --------------\n",
      "  samples:          5\n",
      "  evals/sample:     1\n",
      "    "
     ]
    }
   ],
   "source": [
    "print(py\"benchmark('sp.nufft(img, coord)')\")"
   ]
  },
  {
   "cell_type": "code",
   "execution_count": 42,
   "metadata": {},
   "outputs": [
    {
     "data": {
      "text/plain": [
       "BenchmarkTools.Trial: \n",
       "  memory estimate:  1.84 GiB\n",
       "  allocs estimate:  532\n",
       "  --------------\n",
       "  minimum time:     1.668 s (1.63% GC)\n",
       "  median time:      1.670 s (1.63% GC)\n",
       "  mean time:        1.733 s (4.72% GC)\n",
       "  maximum time:     1.861 s (11.61% GC)\n",
       "  --------------\n",
       "  samples:          3\n",
       "  evals/sample:     1"
      ]
     },
     "execution_count": 42,
     "metadata": {},
     "output_type": "execute_result"
    }
   ],
   "source": [
    "@benchmark SigJl.nufft(coord_j, img)"
   ]
  },
  {
   "cell_type": "code",
   "execution_count": 43,
   "metadata": {},
   "outputs": [
    {
     "data": {
      "text/plain": [
       "BenchmarkTools.Trial: \n",
       "  memory estimate:  37.50 KiB\n",
       "  allocs estimate:  402\n",
       "  --------------\n",
       "  minimum time:     1.280 s (0.00% GC)\n",
       "  median time:      1.300 s (0.00% GC)\n",
       "  mean time:        1.306 s (0.00% GC)\n",
       "  maximum time:     1.345 s (0.00% GC)\n",
       "  --------------\n",
       "  samples:          4\n",
       "  evals/sample:     1"
      ]
     },
     "execution_count": 43,
     "metadata": {},
     "output_type": "execute_result"
    }
   ],
   "source": [
    "complexImg = convert.(ComplexF64, img)\n",
    "plan = SigJl.nufft_plan(coord_j, complexImg)\n",
    "output = plan * complexImg\n",
    "@benchmark mul!(output, plan, complexImg)"
   ]
  },
  {
   "cell_type": "code",
   "execution_count": 44,
   "metadata": {},
   "outputs": [
    {
     "name": "stdout",
     "output_type": "stream",
     "text": [
      "\n",
      "Python benchmark:\n",
      "  --------------\n",
      "  minimum time:     7.189 s\n",
      "  median time:      7.200 s\n",
      "  mean time:        7.216 s\n",
      "  maximum time:     7.252 s\n",
      "  --------------\n",
      "  samples:          5\n",
      "  evals/sample:     1\n",
      "    "
     ]
    }
   ],
   "source": [
    "py\"\"\"\n",
    "ksp = sp.nufft(img, coord)\n",
    "\"\"\"\n",
    "print(py\"benchmark('sp.nufft_adjoint(ksp, coord)')\")"
   ]
  },
  {
   "cell_type": "code",
   "execution_count": 45,
   "metadata": {},
   "outputs": [
    {
     "data": {
      "text/plain": [
       "BenchmarkTools.Trial: \n",
       "  memory estimate:  1.44 GiB\n",
       "  allocs estimate:  16215\n",
       "  --------------\n",
       "  minimum time:     1.972 s (0.09% GC)\n",
       "  median time:      2.528 s (1.88% GC)\n",
       "  mean time:        2.350 s (2.62% GC)\n",
       "  maximum time:     2.550 s (5.30% GC)\n",
       "  --------------\n",
       "  samples:          3\n",
       "  evals/sample:     1"
      ]
     },
     "execution_count": 45,
     "metadata": {},
     "output_type": "execute_result"
    }
   ],
   "source": [
    "ksp = SigJl.nufft(coord_j, img)\n",
    "@benchmark SigJl.nufft_adjoint(coord_j, ksp)"
   ]
  },
  {
   "cell_type": "code",
   "execution_count": 46,
   "metadata": {},
   "outputs": [
    {
     "data": {
      "text/plain": [
       "BenchmarkTools.Trial: \n",
       "  memory estimate:  256.33 KiB\n",
       "  allocs estimate:  16008\n",
       "  --------------\n",
       "  minimum time:     1.356 s (0.00% GC)\n",
       "  median time:      1.387 s (0.00% GC)\n",
       "  mean time:        1.393 s (0.00% GC)\n",
       "  maximum time:     1.442 s (0.00% GC)\n",
       "  --------------\n",
       "  samples:          4\n",
       "  evals/sample:     1"
      ]
     },
     "execution_count": 46,
     "metadata": {},
     "output_type": "execute_result"
    }
   ],
   "source": [
    "plan_adj = plan'\n",
    "@benchmark mul!(complexImg, plan_adj, ksp)"
   ]
  },
  {
   "cell_type": "markdown",
   "metadata": {},
   "source": [
    "#### Large 3D problem with 2D batch"
   ]
  },
  {
   "cell_type": "code",
   "execution_count": 47,
   "metadata": {},
   "outputs": [],
   "source": [
    "M, batch, shape = 4186100, (3,4), (34, 30, 68)\n",
    "img = rand(Float64, (batch..., shape...))\n",
    "coord_py = rand(Float64, M, 3) .* collect(shape)' .- collect(shape)' ./2\n",
    "coord_j = permutedims(coord_py, (2,1))\n",
    "py\"\"\"\n",
    "img = $img\n",
    "coord = $coord_py\n",
    "\"\"\""
   ]
  },
  {
   "cell_type": "code",
   "execution_count": 48,
   "metadata": {},
   "outputs": [
    {
     "name": "stdout",
     "output_type": "stream",
     "text": [
      "absolute error: 9.963074863817178e-14\n",
      "relative error: 8.17618951645943e-12"
     ]
    }
   ],
   "source": [
    "ksp_j = SigJl.nufft(coord_j, img)\n",
    "ksp_py = sp.nufft(img, coord_py)\n",
    "print(\"absolute error: \", norm(ksp_j - ksp_py, Inf), \"\\n\",\n",
    "    \"relative error: \", norm((ksp_j - ksp_py) ./ ksp_py, Inf))"
   ]
  },
  {
   "cell_type": "code",
   "execution_count": 49,
   "metadata": {},
   "outputs": [
    {
     "name": "stdout",
     "output_type": "stream",
     "text": [
      "absolute error: 2.5898140618858957e-12\n",
      "relative error: 6.982564500361215e-12"
     ]
    }
   ],
   "source": [
    "output_j = SigJl.nufft_adjoint(coord_j, ksp_j)\n",
    "output_py = sp.nufft_adjoint(ksp_j, coord_py)\n",
    "print(\"absolute error: \", norm(output_j - output_py, Inf), \"\\n\",\n",
    "    \"relative error: \", norm((output_j - output_py) ./ output_py, Inf))"
   ]
  },
  {
   "cell_type": "code",
   "execution_count": 50,
   "metadata": {},
   "outputs": [
    {
     "name": "stdout",
     "output_type": "stream",
     "text": [
      "\n",
      "Python benchmark:\n",
      "  --------------\n",
      "  minimum time:     19.105 s\n",
      "  median time:      19.711 s\n",
      "  mean time:        19.711 s\n",
      "  maximum time:     20.317 s\n",
      "  --------------\n",
      "  samples:          2\n",
      "  evals/sample:     1\n",
      "    "
     ]
    }
   ],
   "source": [
    "print(py\"benchmark('sp.nufft(img, coord)')\")"
   ]
  },
  {
   "cell_type": "code",
   "execution_count": 51,
   "metadata": {},
   "outputs": [
    {
     "data": {
      "text/plain": [
       "BenchmarkTools.Trial: \n",
       "  memory estimate:  925.92 MiB\n",
       "  allocs estimate:  689\n",
       "  --------------\n",
       "  minimum time:     1.192 s (0.41% GC)\n",
       "  median time:      1.522 s (9.10% GC)\n",
       "  mean time:        1.457 s (7.63% GC)\n",
       "  maximum time:     1.593 s (9.14% GC)\n",
       "  --------------\n",
       "  samples:          4\n",
       "  evals/sample:     1"
      ]
     },
     "execution_count": 51,
     "metadata": {},
     "output_type": "execute_result"
    }
   ],
   "source": [
    "@benchmark SigJl.nufft(coord_j, img)"
   ]
  },
  {
   "cell_type": "code",
   "execution_count": 52,
   "metadata": {},
   "outputs": [
    {
     "data": {
      "text/plain": [
       "BenchmarkTools.Trial: \n",
       "  memory estimate:  42.08 KiB\n",
       "  allocs estimate:  544\n",
       "  --------------\n",
       "  minimum time:     1.025 s (0.00% GC)\n",
       "  median time:      1.074 s (0.00% GC)\n",
       "  mean time:        1.076 s (0.00% GC)\n",
       "  maximum time:     1.106 s (0.00% GC)\n",
       "  --------------\n",
       "  samples:          5\n",
       "  evals/sample:     1"
      ]
     },
     "execution_count": 52,
     "metadata": {},
     "output_type": "execute_result"
    }
   ],
   "source": [
    "complexImg = convert.(ComplexF64, img)\n",
    "plan = SigJl.nufft_plan(coord_j, complexImg)\n",
    "output = plan * complexImg\n",
    "@benchmark mul!(output, plan, complexImg)"
   ]
  },
  {
   "cell_type": "code",
   "execution_count": 53,
   "metadata": {},
   "outputs": [
    {
     "name": "stdout",
     "output_type": "stream",
     "text": [
      "\n",
      "Python benchmark:\n",
      "  --------------\n",
      "  minimum time:     16.464 s\n",
      "  median time:      17.101 s\n",
      "  mean time:        17.101 s\n",
      "  maximum time:     17.738 s\n",
      "  --------------\n",
      "  samples:          2\n",
      "  evals/sample:     1\n",
      "    "
     ]
    }
   ],
   "source": [
    "py\"\"\"\n",
    "ksp = sp.nufft(img, coord)\n",
    "\"\"\"\n",
    "print(py\"benchmark('sp.nufft_adjoint(ksp, coord)')\")"
   ]
  },
  {
   "cell_type": "code",
   "execution_count": 54,
   "metadata": {},
   "outputs": [
    {
     "data": {
      "text/plain": [
       "BenchmarkTools.Trial: \n",
       "  memory estimate:  1.11 GiB\n",
       "  allocs estimate:  4186571\n",
       "  --------------\n",
       "  minimum time:     3.871 s (6.08% GC)\n",
       "  median time:      3.914 s (7.64% GC)\n",
       "  mean time:        3.914 s (7.64% GC)\n",
       "  maximum time:     3.956 s (9.18% GC)\n",
       "  --------------\n",
       "  samples:          2\n",
       "  evals/sample:     1"
      ]
     },
     "execution_count": 54,
     "metadata": {},
     "output_type": "execute_result"
    }
   ],
   "source": [
    "ksp = SigJl.nufft(coord_j, img)\n",
    "@benchmark SigJl.nufft_adjoint(coord_j, ksp)"
   ]
  },
  {
   "cell_type": "code",
   "execution_count": 55,
   "metadata": {},
   "outputs": [
    {
     "data": {
      "text/plain": [
       "BenchmarkTools.Trial: \n",
       "  memory estimate:  63.91 MiB\n",
       "  allocs estimate:  4186243\n",
       "  --------------\n",
       "  minimum time:     3.301 s (0.00% GC)\n",
       "  median time:      3.324 s (0.00% GC)\n",
       "  mean time:        3.324 s (0.00% GC)\n",
       "  maximum time:     3.346 s (0.00% GC)\n",
       "  --------------\n",
       "  samples:          2\n",
       "  evals/sample:     1"
      ]
     },
     "execution_count": 55,
     "metadata": {},
     "output_type": "execute_result"
    }
   ],
   "source": [
    "plan_adj = plan'\n",
    "@benchmark mul!(complexImg, plan_adj, ksp)"
   ]
  },
  {
   "cell_type": "markdown",
   "metadata": {},
   "source": [
    "## Unused code"
   ]
  },
  {
   "cell_type": "code",
   "execution_count": 15,
   "metadata": {},
   "outputs": [
    {
     "data": {
      "text/plain": [
       "_spline_kernel (generic function with 1 method)"
      ]
     },
     "execution_count": 15,
     "metadata": {},
     "output_type": "execute_result"
    }
   ],
   "source": [
    "function _spline_kernel(x::T, order::T)::T where {T<:Real}\n",
    "    abs(x) > 1 && return zero(x)\n",
    "\n",
    "    if order == 0\n",
    "        return one(x)\n",
    "    elseif order == 1\n",
    "        return 1 - abs(x)\n",
    "    elseif order == 2\n",
    "        if abs(x) > 1 / 3\n",
    "            return 9 / 8 * (1 - abs(x))^2\n",
    "        else\n",
    "            return 3 / 4 * (1 - 3 * x^2)\n",
    "        end\n",
    "    else\n",
    "        @assert \"Only {0,1,2}-order spline kernel is supported\"\n",
    "    end\n",
    "end"
   ]
  },
  {
   "cell_type": "code",
   "execution_count": 16,
   "metadata": {},
   "outputs": [
    {
     "data": {
      "text/plain": [
       "_kaiser_bessel_kernel (generic function with 1 method)"
      ]
     },
     "execution_count": 16,
     "metadata": {},
     "output_type": "execute_result"
    }
   ],
   "source": [
    "function _kaiser_bessel_kernel(x::T, β::T)::T where {T<:Real}\n",
    "    abs(x) > 1 && return zero(x)\n",
    "\n",
    "    x = β * √(1 - x^2)\n",
    "    t = x / 3.75\n",
    "    if x < 3.75\n",
    "        return 1 + 3.5156229 * t^2 + 3.0899424 * t^4 +\n",
    "            1.2067492 * t^6 + 0.2659732 * t^8 +\n",
    "            0.0360768 * t^10 + 0.0045813 * t^12\n",
    "    else\n",
    "        return x^-0.5 * exp(x) * (\n",
    "            0.39894228 + 0.01328592 * t^-1 +\n",
    "            0.00225319 * t^-2 - 0.00157565 * t^-3 +\n",
    "            0.00916281 * t^-4 - 0.02057706 * t^-5 +\n",
    "            0.02635537 * t^-6 - 0.01647633 * t^-7 +\n",
    "            0.00392377 * t^-8)\n",
    "    end\n",
    "end"
   ]
  },
  {
   "cell_type": "code",
   "execution_count": null,
   "metadata": {},
   "outputs": [],
   "source": []
  }
 ],
 "metadata": {
  "kernelspec": {
   "display_name": "Julia 1.3.0",
   "language": "julia",
   "name": "julia-1.3"
  },
  "language_info": {
   "file_extension": ".jl",
   "mimetype": "application/julia",
   "name": "julia",
   "version": "1.3.0"
  }
 },
 "nbformat": 4,
 "nbformat_minor": 4
}
